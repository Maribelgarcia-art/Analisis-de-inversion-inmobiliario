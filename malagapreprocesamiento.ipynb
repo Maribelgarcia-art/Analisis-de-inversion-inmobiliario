{
 "cells": [
  {
   "cell_type": "code",
   "execution_count": 46,
   "metadata": {},
   "outputs": [],
   "source": [
    "# Importar librerias\n",
    "import pandas as pd\n",
    "import matplotlib.pyplot as plt\n",
    "import seaborn as sns\n",
    "import streamlit as st\n",
    "import plotly.express as px"
   ]
  },
  {
   "cell_type": "code",
   "execution_count": 47,
   "metadata": {},
   "outputs": [],
   "source": [
    "# Cargar el dataset\n",
    "df = pd.read_csv(r'/Users/patriciajaquez/Documents/Documents - Patricia’s MacBook Pro/GitHub/Analisis-de-inversion-inmobiliario/malaga.csv')"
   ]
  },
  {
   "cell_type": "code",
   "execution_count": 48,
   "metadata": {},
   "outputs": [
    {
     "data": {
      "text/plain": [
       "Index(['id', 'name', 'host_id', 'host_name', 'neighbourhood_group',\n",
       "       'neighbourhood', 'latitude', 'longitude', 'room_type', 'price',\n",
       "       'minimum_nights', 'number_of_reviews', 'last_review',\n",
       "       'reviews_per_month', 'calculated_host_listings_count',\n",
       "       'availability_365', 'number_of_reviews_ltm', 'license'],\n",
       "      dtype='object')"
      ]
     },
     "execution_count": 48,
     "metadata": {},
     "output_type": "execute_result"
    }
   ],
   "source": [
    "# Mostrar columna de datos\n",
    "df.columns "
   ]
  },
  {
   "cell_type": "code",
   "execution_count": 49,
   "metadata": {},
   "outputs": [
    {
     "data": {
      "text/html": [
       "<div>\n",
       "<style scoped>\n",
       "    .dataframe tbody tr th:only-of-type {\n",
       "        vertical-align: middle;\n",
       "    }\n",
       "\n",
       "    .dataframe tbody tr th {\n",
       "        vertical-align: top;\n",
       "    }\n",
       "\n",
       "    .dataframe thead th {\n",
       "        text-align: right;\n",
       "    }\n",
       "</style>\n",
       "<table border=\"1\" class=\"dataframe\">\n",
       "  <thead>\n",
       "    <tr style=\"text-align: right;\">\n",
       "      <th></th>\n",
       "      <th>id</th>\n",
       "      <th>name</th>\n",
       "      <th>host_id</th>\n",
       "      <th>host_name</th>\n",
       "      <th>neighbourhood_group</th>\n",
       "      <th>neighbourhood</th>\n",
       "      <th>latitude</th>\n",
       "      <th>longitude</th>\n",
       "      <th>room_type</th>\n",
       "      <th>price</th>\n",
       "      <th>minimum_nights</th>\n",
       "      <th>number_of_reviews</th>\n",
       "      <th>last_review</th>\n",
       "      <th>reviews_per_month</th>\n",
       "      <th>calculated_host_listings_count</th>\n",
       "      <th>availability_365</th>\n",
       "      <th>number_of_reviews_ltm</th>\n",
       "      <th>license</th>\n",
       "    </tr>\n",
       "  </thead>\n",
       "  <tbody>\n",
       "    <tr>\n",
       "      <th>0</th>\n",
       "      <td>96033</td>\n",
       "      <td>Bonito piso a 200m de la playa, El Palo (Málaga)</td>\n",
       "      <td>510467</td>\n",
       "      <td>Rafael</td>\n",
       "      <td>NaN</td>\n",
       "      <td>Este</td>\n",
       "      <td>36.720310</td>\n",
       "      <td>-4.356270</td>\n",
       "      <td>Entire home/apt</td>\n",
       "      <td>54.0</td>\n",
       "      <td>3</td>\n",
       "      <td>250</td>\n",
       "      <td>2025-03-01</td>\n",
       "      <td>1.79</td>\n",
       "      <td>1</td>\n",
       "      <td>259</td>\n",
       "      <td>39</td>\n",
       "      <td>VUT/MA/22043</td>\n",
       "    </tr>\n",
       "    <tr>\n",
       "      <th>1</th>\n",
       "      <td>166473</td>\n",
       "      <td>Perfect Location In Malaga</td>\n",
       "      <td>793360</td>\n",
       "      <td>Fred</td>\n",
       "      <td>NaN</td>\n",
       "      <td>Este</td>\n",
       "      <td>36.720310</td>\n",
       "      <td>-4.361080</td>\n",
       "      <td>Private room</td>\n",
       "      <td>22.0</td>\n",
       "      <td>5</td>\n",
       "      <td>101</td>\n",
       "      <td>2025-02-11</td>\n",
       "      <td>0.61</td>\n",
       "      <td>5</td>\n",
       "      <td>301</td>\n",
       "      <td>4</td>\n",
       "      <td>NaN</td>\n",
       "    </tr>\n",
       "    <tr>\n",
       "      <th>2</th>\n",
       "      <td>330760</td>\n",
       "      <td>Malaga Lodge Guesthouse Double room-shared bath.</td>\n",
       "      <td>1687526</td>\n",
       "      <td>Mayte</td>\n",
       "      <td>NaN</td>\n",
       "      <td>Centro</td>\n",
       "      <td>36.729786</td>\n",
       "      <td>-4.413462</td>\n",
       "      <td>Private room</td>\n",
       "      <td>51.0</td>\n",
       "      <td>1</td>\n",
       "      <td>60</td>\n",
       "      <td>2025-02-23</td>\n",
       "      <td>0.38</td>\n",
       "      <td>6</td>\n",
       "      <td>218</td>\n",
       "      <td>5</td>\n",
       "      <td>VFT/MA/12240</td>\n",
       "    </tr>\n",
       "    <tr>\n",
       "      <th>3</th>\n",
       "      <td>340024</td>\n",
       "      <td>NEW APARTMENT IN MALAGA CENTER</td>\n",
       "      <td>1725690</td>\n",
       "      <td>Carlos</td>\n",
       "      <td>NaN</td>\n",
       "      <td>Centro</td>\n",
       "      <td>36.728130</td>\n",
       "      <td>-4.414220</td>\n",
       "      <td>Entire home/apt</td>\n",
       "      <td>65.0</td>\n",
       "      <td>3</td>\n",
       "      <td>301</td>\n",
       "      <td>2025-03-14</td>\n",
       "      <td>2.05</td>\n",
       "      <td>1</td>\n",
       "      <td>215</td>\n",
       "      <td>42</td>\n",
       "      <td>VFT/MA/02334</td>\n",
       "    </tr>\n",
       "    <tr>\n",
       "      <th>4</th>\n",
       "      <td>358541</td>\n",
       "      <td>Casa La Maga - Apartment for happy people</td>\n",
       "      <td>1526932</td>\n",
       "      <td>Cristina</td>\n",
       "      <td>NaN</td>\n",
       "      <td>Centro</td>\n",
       "      <td>36.723740</td>\n",
       "      <td>-4.421300</td>\n",
       "      <td>Entire home/apt</td>\n",
       "      <td>86.0</td>\n",
       "      <td>2</td>\n",
       "      <td>388</td>\n",
       "      <td>2025-03-07</td>\n",
       "      <td>2.47</td>\n",
       "      <td>1</td>\n",
       "      <td>100</td>\n",
       "      <td>22</td>\n",
       "      <td>VFT/MA/02288</td>\n",
       "    </tr>\n",
       "  </tbody>\n",
       "</table>\n",
       "</div>"
      ],
      "text/plain": [
       "       id                                              name  host_id  \\\n",
       "0   96033  Bonito piso a 200m de la playa, El Palo (Málaga)   510467   \n",
       "1  166473                        Perfect Location In Malaga   793360   \n",
       "2  330760  Malaga Lodge Guesthouse Double room-shared bath.  1687526   \n",
       "3  340024                    NEW APARTMENT IN MALAGA CENTER  1725690   \n",
       "4  358541         Casa La Maga - Apartment for happy people  1526932   \n",
       "\n",
       "  host_name  neighbourhood_group neighbourhood   latitude  longitude  \\\n",
       "0    Rafael                  NaN          Este  36.720310  -4.356270   \n",
       "1      Fred                  NaN          Este  36.720310  -4.361080   \n",
       "2     Mayte                  NaN        Centro  36.729786  -4.413462   \n",
       "3    Carlos                  NaN        Centro  36.728130  -4.414220   \n",
       "4  Cristina                  NaN        Centro  36.723740  -4.421300   \n",
       "\n",
       "         room_type  price  minimum_nights  number_of_reviews last_review  \\\n",
       "0  Entire home/apt   54.0               3                250  2025-03-01   \n",
       "1     Private room   22.0               5                101  2025-02-11   \n",
       "2     Private room   51.0               1                 60  2025-02-23   \n",
       "3  Entire home/apt   65.0               3                301  2025-03-14   \n",
       "4  Entire home/apt   86.0               2                388  2025-03-07   \n",
       "\n",
       "   reviews_per_month  calculated_host_listings_count  availability_365  \\\n",
       "0               1.79                               1               259   \n",
       "1               0.61                               5               301   \n",
       "2               0.38                               6               218   \n",
       "3               2.05                               1               215   \n",
       "4               2.47                               1               100   \n",
       "\n",
       "   number_of_reviews_ltm       license  \n",
       "0                     39  VUT/MA/22043  \n",
       "1                      4           NaN  \n",
       "2                      5  VFT/MA/12240  \n",
       "3                     42  VFT/MA/02334  \n",
       "4                     22  VFT/MA/02288  "
      ]
     },
     "execution_count": 49,
     "metadata": {},
     "output_type": "execute_result"
    }
   ],
   "source": [
    "# Mostrar el dataset\n",
    "df.head()"
   ]
  },
  {
   "cell_type": "code",
   "execution_count": 50,
   "metadata": {},
   "outputs": [
    {
     "name": "stdout",
     "output_type": "stream",
     "text": [
      "<class 'pandas.core.frame.DataFrame'>\n",
      "RangeIndex: 9621 entries, 0 to 9620\n",
      "Data columns (total 18 columns):\n",
      " #   Column                          Non-Null Count  Dtype  \n",
      "---  ------                          --------------  -----  \n",
      " 0   id                              9621 non-null   int64  \n",
      " 1   name                            9621 non-null   object \n",
      " 2   host_id                         9621 non-null   int64  \n",
      " 3   host_name                       9621 non-null   object \n",
      " 4   neighbourhood_group             0 non-null      float64\n",
      " 5   neighbourhood                   9621 non-null   object \n",
      " 6   latitude                        9621 non-null   float64\n",
      " 7   longitude                       9621 non-null   float64\n",
      " 8   room_type                       9621 non-null   object \n",
      " 9   price                           8711 non-null   float64\n",
      " 10  minimum_nights                  9621 non-null   int64  \n",
      " 11  number_of_reviews               9621 non-null   int64  \n",
      " 12  last_review                     8454 non-null   object \n",
      " 13  reviews_per_month               8454 non-null   float64\n",
      " 14  calculated_host_listings_count  9621 non-null   int64  \n",
      " 15  availability_365                9621 non-null   int64  \n",
      " 16  number_of_reviews_ltm           9621 non-null   int64  \n",
      " 17  license                         9480 non-null   object \n",
      "dtypes: float64(5), int64(7), object(6)\n",
      "memory usage: 1.3+ MB\n"
     ]
    }
   ],
   "source": [
    "# Mostrar info del dataset\n",
    "df.info()"
   ]
  },
  {
   "cell_type": "code",
   "execution_count": 51,
   "metadata": {},
   "outputs": [
    {
     "name": "stdout",
     "output_type": "stream",
     "text": [
      "<class 'pandas.core.frame.DataFrame'>\n",
      "RangeIndex: 9621 entries, 0 to 9620\n",
      "Data columns (total 18 columns):\n",
      " #   Column                          Non-Null Count  Dtype         \n",
      "---  ------                          --------------  -----         \n",
      " 0   id                              9621 non-null   int64         \n",
      " 1   name                            9621 non-null   object        \n",
      " 2   host_id                         9621 non-null   int64         \n",
      " 3   host_name                       9621 non-null   object        \n",
      " 4   neighbourhood_group             0 non-null      float64       \n",
      " 5   neighbourhood                   9621 non-null   object        \n",
      " 6   latitude                        9621 non-null   float64       \n",
      " 7   longitude                       9621 non-null   float64       \n",
      " 8   room_type                       9621 non-null   object        \n",
      " 9   price                           8711 non-null   float64       \n",
      " 10  minimum_nights                  9621 non-null   int64         \n",
      " 11  number_of_reviews               9621 non-null   int64         \n",
      " 12  last_review                     8454 non-null   datetime64[ns]\n",
      " 13  reviews_per_month               8454 non-null   float64       \n",
      " 14  calculated_host_listings_count  9621 non-null   int64         \n",
      " 15  availability_365                9621 non-null   int64         \n",
      " 16  number_of_reviews_ltm           9621 non-null   int64         \n",
      " 17  license                         9480 non-null   object        \n",
      "dtypes: datetime64[ns](1), float64(5), int64(7), object(5)\n",
      "memory usage: 1.3+ MB\n"
     ]
    }
   ],
   "source": [
    "# Corregir tipos de datos, 'last_review' de object a datetime Dtype\n",
    "df['last_review'] = pd.to_datetime(df['last_review'], format='%Y-%m-%d', errors='coerce')\n",
    "# Mostrar info del dataset corregido\n",
    "df.info()\n"
   ]
  },
  {
   "cell_type": "code",
   "execution_count": 52,
   "metadata": {},
   "outputs": [
    {
     "data": {
      "text/html": [
       "<div>\n",
       "<style scoped>\n",
       "    .dataframe tbody tr th:only-of-type {\n",
       "        vertical-align: middle;\n",
       "    }\n",
       "\n",
       "    .dataframe tbody tr th {\n",
       "        vertical-align: top;\n",
       "    }\n",
       "\n",
       "    .dataframe thead th {\n",
       "        text-align: right;\n",
       "    }\n",
       "</style>\n",
       "<table border=\"1\" class=\"dataframe\">\n",
       "  <thead>\n",
       "    <tr style=\"text-align: right;\">\n",
       "      <th></th>\n",
       "      <th>id</th>\n",
       "      <th>host_id</th>\n",
       "      <th>neighbourhood_group</th>\n",
       "      <th>latitude</th>\n",
       "      <th>longitude</th>\n",
       "      <th>price</th>\n",
       "      <th>minimum_nights</th>\n",
       "      <th>number_of_reviews</th>\n",
       "      <th>last_review</th>\n",
       "      <th>reviews_per_month</th>\n",
       "      <th>calculated_host_listings_count</th>\n",
       "      <th>availability_365</th>\n",
       "      <th>number_of_reviews_ltm</th>\n",
       "    </tr>\n",
       "  </thead>\n",
       "  <tbody>\n",
       "    <tr>\n",
       "      <th>count</th>\n",
       "      <td>9.621000e+03</td>\n",
       "      <td>9.621000e+03</td>\n",
       "      <td>0.0</td>\n",
       "      <td>9621.000000</td>\n",
       "      <td>9621.000000</td>\n",
       "      <td>8711.000000</td>\n",
       "      <td>9621.000000</td>\n",
       "      <td>9621.000000</td>\n",
       "      <td>8454</td>\n",
       "      <td>8454.000000</td>\n",
       "      <td>9621.000000</td>\n",
       "      <td>9621.000000</td>\n",
       "      <td>9621.000000</td>\n",
       "    </tr>\n",
       "    <tr>\n",
       "      <th>mean</th>\n",
       "      <td>6.352695e+17</td>\n",
       "      <td>2.173691e+08</td>\n",
       "      <td>NaN</td>\n",
       "      <td>36.720323</td>\n",
       "      <td>-4.421476</td>\n",
       "      <td>244.892320</td>\n",
       "      <td>3.412743</td>\n",
       "      <td>46.334061</td>\n",
       "      <td>2024-10-16 05:45:56.848828928</td>\n",
       "      <td>1.402359</td>\n",
       "      <td>24.359526</td>\n",
       "      <td>162.154142</td>\n",
       "      <td>12.739840</td>\n",
       "    </tr>\n",
       "    <tr>\n",
       "      <th>min</th>\n",
       "      <td>9.603300e+04</td>\n",
       "      <td>4.555300e+04</td>\n",
       "      <td>NaN</td>\n",
       "      <td>36.646012</td>\n",
       "      <td>-4.582370</td>\n",
       "      <td>15.000000</td>\n",
       "      <td>1.000000</td>\n",
       "      <td>0.000000</td>\n",
       "      <td>2013-12-31 00:00:00</td>\n",
       "      <td>0.010000</td>\n",
       "      <td>1.000000</td>\n",
       "      <td>0.000000</td>\n",
       "      <td>0.000000</td>\n",
       "    </tr>\n",
       "    <tr>\n",
       "      <th>25%</th>\n",
       "      <td>4.222275e+07</td>\n",
       "      <td>4.842949e+07</td>\n",
       "      <td>NaN</td>\n",
       "      <td>36.718342</td>\n",
       "      <td>-4.429060</td>\n",
       "      <td>70.000000</td>\n",
       "      <td>1.000000</td>\n",
       "      <td>3.000000</td>\n",
       "      <td>2024-09-14 00:00:00</td>\n",
       "      <td>0.350000</td>\n",
       "      <td>2.000000</td>\n",
       "      <td>36.000000</td>\n",
       "      <td>1.000000</td>\n",
       "    </tr>\n",
       "    <tr>\n",
       "      <th>50%</th>\n",
       "      <td>7.731022e+17</td>\n",
       "      <td>1.420223e+08</td>\n",
       "      <td>NaN</td>\n",
       "      <td>36.722330</td>\n",
       "      <td>-4.422676</td>\n",
       "      <td>96.000000</td>\n",
       "      <td>2.000000</td>\n",
       "      <td>15.000000</td>\n",
       "      <td>2025-02-11 00:00:00</td>\n",
       "      <td>0.910000</td>\n",
       "      <td>5.000000</td>\n",
       "      <td>164.000000</td>\n",
       "      <td>5.000000</td>\n",
       "    </tr>\n",
       "    <tr>\n",
       "      <th>75%</th>\n",
       "      <td>1.131138e+18</td>\n",
       "      <td>3.821465e+08</td>\n",
       "      <td>NaN</td>\n",
       "      <td>36.725450</td>\n",
       "      <td>-4.417670</td>\n",
       "      <td>135.000000</td>\n",
       "      <td>3.000000</td>\n",
       "      <td>53.000000</td>\n",
       "      <td>2025-03-14 00:00:00</td>\n",
       "      <td>2.000000</td>\n",
       "      <td>28.000000</td>\n",
       "      <td>272.000000</td>\n",
       "      <td>18.000000</td>\n",
       "    </tr>\n",
       "    <tr>\n",
       "      <th>max</th>\n",
       "      <td>1.386258e+18</td>\n",
       "      <td>6.860863e+08</td>\n",
       "      <td>NaN</td>\n",
       "      <td>36.881336</td>\n",
       "      <td>-4.278520</td>\n",
       "      <td>92150.000000</td>\n",
       "      <td>500.000000</td>\n",
       "      <td>1027.000000</td>\n",
       "      <td>2025-03-31 00:00:00</td>\n",
       "      <td>24.940000</td>\n",
       "      <td>218.000000</td>\n",
       "      <td>365.000000</td>\n",
       "      <td>174.000000</td>\n",
       "    </tr>\n",
       "    <tr>\n",
       "      <th>std</th>\n",
       "      <td>5.262896e+17</td>\n",
       "      <td>1.946497e+08</td>\n",
       "      <td>NaN</td>\n",
       "      <td>0.013373</td>\n",
       "      <td>0.024403</td>\n",
       "      <td>1424.502555</td>\n",
       "      <td>12.882824</td>\n",
       "      <td>79.124776</td>\n",
       "      <td>NaN</td>\n",
       "      <td>1.479701</td>\n",
       "      <td>41.498793</td>\n",
       "      <td>123.696936</td>\n",
       "      <td>17.853952</td>\n",
       "    </tr>\n",
       "  </tbody>\n",
       "</table>\n",
       "</div>"
      ],
      "text/plain": [
       "                 id       host_id  neighbourhood_group     latitude  \\\n",
       "count  9.621000e+03  9.621000e+03                  0.0  9621.000000   \n",
       "mean   6.352695e+17  2.173691e+08                  NaN    36.720323   \n",
       "min    9.603300e+04  4.555300e+04                  NaN    36.646012   \n",
       "25%    4.222275e+07  4.842949e+07                  NaN    36.718342   \n",
       "50%    7.731022e+17  1.420223e+08                  NaN    36.722330   \n",
       "75%    1.131138e+18  3.821465e+08                  NaN    36.725450   \n",
       "max    1.386258e+18  6.860863e+08                  NaN    36.881336   \n",
       "std    5.262896e+17  1.946497e+08                  NaN     0.013373   \n",
       "\n",
       "         longitude         price  minimum_nights  number_of_reviews  \\\n",
       "count  9621.000000   8711.000000     9621.000000        9621.000000   \n",
       "mean     -4.421476    244.892320        3.412743          46.334061   \n",
       "min      -4.582370     15.000000        1.000000           0.000000   \n",
       "25%      -4.429060     70.000000        1.000000           3.000000   \n",
       "50%      -4.422676     96.000000        2.000000          15.000000   \n",
       "75%      -4.417670    135.000000        3.000000          53.000000   \n",
       "max      -4.278520  92150.000000      500.000000        1027.000000   \n",
       "std       0.024403   1424.502555       12.882824          79.124776   \n",
       "\n",
       "                         last_review  reviews_per_month  \\\n",
       "count                           8454        8454.000000   \n",
       "mean   2024-10-16 05:45:56.848828928           1.402359   \n",
       "min              2013-12-31 00:00:00           0.010000   \n",
       "25%              2024-09-14 00:00:00           0.350000   \n",
       "50%              2025-02-11 00:00:00           0.910000   \n",
       "75%              2025-03-14 00:00:00           2.000000   \n",
       "max              2025-03-31 00:00:00          24.940000   \n",
       "std                              NaN           1.479701   \n",
       "\n",
       "       calculated_host_listings_count  availability_365  number_of_reviews_ltm  \n",
       "count                     9621.000000       9621.000000            9621.000000  \n",
       "mean                        24.359526        162.154142              12.739840  \n",
       "min                          1.000000          0.000000               0.000000  \n",
       "25%                          2.000000         36.000000               1.000000  \n",
       "50%                          5.000000        164.000000               5.000000  \n",
       "75%                         28.000000        272.000000              18.000000  \n",
       "max                        218.000000        365.000000             174.000000  \n",
       "std                         41.498793        123.696936              17.853952  "
      ]
     },
     "execution_count": 52,
     "metadata": {},
     "output_type": "execute_result"
    }
   ],
   "source": [
    "# Mostrar estadisticas descriptivas del dataset\n",
    "df.describe()"
   ]
  },
  {
   "cell_type": "code",
   "execution_count": 53,
   "metadata": {},
   "outputs": [
    {
     "data": {
      "text/plain": [
       "np.int64(0)"
      ]
     },
     "execution_count": 53,
     "metadata": {},
     "output_type": "execute_result"
    }
   ],
   "source": [
    "# Comprobación de duplicados\n",
    "df.duplicated().sum()"
   ]
  },
  {
   "cell_type": "code",
   "execution_count": 54,
   "metadata": {},
   "outputs": [
    {
     "data": {
      "text/plain": [
       "id                                   0\n",
       "name                                 0\n",
       "host_id                              0\n",
       "host_name                            0\n",
       "neighbourhood_group               9621\n",
       "neighbourhood                        0\n",
       "latitude                             0\n",
       "longitude                            0\n",
       "room_type                            0\n",
       "price                              910\n",
       "minimum_nights                       0\n",
       "number_of_reviews                    0\n",
       "last_review                       1167\n",
       "reviews_per_month                 1167\n",
       "calculated_host_listings_count       0\n",
       "availability_365                     0\n",
       "number_of_reviews_ltm                0\n",
       "license                            141\n",
       "dtype: int64"
      ]
     },
     "execution_count": 54,
     "metadata": {},
     "output_type": "execute_result"
    }
   ],
   "source": [
    "# Comprobación de valores nulos\n",
    "df.isnull().sum()"
   ]
  },
  {
   "cell_type": "code",
   "execution_count": 55,
   "metadata": {},
   "outputs": [
    {
     "data": {
      "text/plain": [
       "id                                  0.000000\n",
       "name                                0.000000\n",
       "host_id                             0.000000\n",
       "host_name                           0.000000\n",
       "neighbourhood_group               100.000000\n",
       "neighbourhood                       0.000000\n",
       "latitude                            0.000000\n",
       "longitude                           0.000000\n",
       "room_type                           0.000000\n",
       "price                               9.458476\n",
       "minimum_nights                      0.000000\n",
       "number_of_reviews                   0.000000\n",
       "last_review                        12.129716\n",
       "reviews_per_month                  12.129716\n",
       "calculated_host_listings_count      0.000000\n",
       "availability_365                    0.000000\n",
       "number_of_reviews_ltm               0.000000\n",
       "license                             1.465544\n",
       "dtype: float64"
      ]
     },
     "execution_count": 55,
     "metadata": {},
     "output_type": "execute_result"
    }
   ],
   "source": [
    "# Porcentaje de valores nulos\n",
    "df.isnull().mean() * 100"
   ]
  },
  {
   "cell_type": "code",
   "execution_count": 56,
   "metadata": {},
   "outputs": [
    {
     "data": {
      "text/plain": [
       "<Axes: >"
      ]
     },
     "execution_count": 56,
     "metadata": {},
     "output_type": "execute_result"
    },
    {
     "data": {
      "image/png": "[encoded data removed]",
      "text/plain": [
       "<Figure size 640x480 with 1 Axes>"
      ]
     },
     "metadata": {},
     "output_type": "display_data"
    }
   ],
   "source": [
    "# Visualización de los datos nulos\n",
    "sns.heatmap(df.isnull(), cbar=False, cmap='viridis')\n"
   ]
  },
  {
   "cell_type": "code",
   "execution_count": 57,
   "metadata": {},
   "outputs": [],
   "source": [
    "# Eliminar columna vacía innecesaria 'neighbourhood_group'\n",
    "df.drop(columns=['neighbourhood_group'], inplace=True)"
   ]
  },
  {
   "cell_type": "code",
   "execution_count": 58,
   "metadata": {},
   "outputs": [
    {
     "data": {
      "text/plain": [
       "1167"
      ]
     },
     "execution_count": 58,
     "metadata": {},
     "output_type": "execute_result"
    }
   ],
   "source": [
    "# Mostrar suma de filas con 'number_of_reviews' igual a 0 y 'last_review' nulo\n",
    "df[(df['number_of_reviews'] == 0) & (df['last_review'].isnull())].shape[0]"
   ]
  },
  {
   "cell_type": "code",
   "execution_count": 63,
   "metadata": {},
   "outputs": [
    {
     "name": "stdout",
     "output_type": "stream",
     "text": [
      "Fechas no válidas o futuras: 1167\n"
     ]
    }
   ],
   "source": [
    "# Confirmar 'last review' esta en un formato consistente YYYY-MM-DD, sin fechas incorrectas, sin sentido por ej '2023-02-30'\n",
    "from datetime import datetime\n",
    "\n",
    "# 1. Convertir a datetime, forzando errores a NaT (detecta fechas imposibles como '2023-02-30')\n",
    "df['last_review'] = pd.to_datetime(df['last_review'], format='%Y-%m-%d', errors='coerce')\n",
    "\n",
    "# 2. Eliminar o marcar fechas futuras\n",
    "hoy = pd.Timestamp(datetime.today().date())\n",
    "df.loc[df['last_review'] > hoy, 'last_review'] = pd.NaT\n",
    "\n",
    "# 3. Verificar cuántas fechas no válidas hay\n",
    "print(\"Fechas no válidas o futuras:\", df['last_review'].isna().sum())"
   ]
  },
  {
   "cell_type": "code",
   "execution_count": 62,
   "metadata": {},
   "outputs": [
    {
     "name": "stdout",
     "output_type": "stream",
     "text": [
      "Fechas no válidas o vacías: 1167\n",
      "Años únicos en 'last_review':\n",
      "[2013, 2016, 2017, 2018, 2019, 2020, 2021, 2022, 2023, 2024, 2025]\n"
     ]
    }
   ],
   "source": [
    "# Contar fechas no válidas o vacías en 'last_review'\n",
    "errores = df['last_review'].isna().sum()\n",
    "print(f\"Fechas no válidas o vacías: {errores}\")\n",
    "\n",
    "# Mostrar los años únicos en la columna 'last_review' en orden ascendente\n",
    "print(\"Años únicos en 'last_review':\")\n",
    "anios = sorted(df['last_review'].dt.year.dropna().astype(int).unique())\n",
    "print(list(map(int, anios)))"
   ]
  },
  {
   "cell_type": "code",
   "execution_count": 61,
   "metadata": {},
   "outputs": [],
   "source": [
    "# Fix 'last_review' para filas con 'number_of_reviews' igual a 0, establecerlo a '0000-00-00'"
   ]
  }
 ],
 "metadata": {
  "kernelspec": {
   "display_name": "venv",
   "language": "python",
   "name": "python3"
  },
  "language_info": {
   "codemirror_mode": {
    "name": "ipython",
    "version": 3
   },
   "file_extension": ".py",
   "mimetype": "text/x-python",
   "name": "python",
   "nbconvert_exporter": "python",
   "pygments_lexer": "ipython3",
   "version": "3.13.2"
  }
 },
 "nbformat": 4,
 "nbformat_minor": 2
}
