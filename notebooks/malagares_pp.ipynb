{
 "cells": [
  {
   "cell_type": "code",
   "execution_count": 5,
   "metadata": {},
   "outputs": [],
   "source": [
    "# Importar librerias\n",
    "import pandas as pd\n",
    "import matplotlib.pyplot as plt\n",
    "import seaborn as sns\n",
    "import streamlit as st\n",
    "import plotly.express as px"
   ]
  },
  {
   "cell_type": "code",
   "execution_count": 6,
   "metadata": {},
   "outputs": [],
   "source": [
    "# Cargar el dataset\n",
    "df = pd.read_csv(r'/Users/patriciajaquez/Documents/Documents - Patricia’s MacBook Pro/GitHub/Analisis-de-inversion-inmobiliario/data/malaga_resumed.csv')"
   ]
  },
  {
   "cell_type": "code",
   "execution_count": 7,
   "metadata": {},
   "outputs": [
    {
     "data": {
      "text/plain": [
       "Index(['id', 'name', 'host_id', 'host_name', 'neighbourhood_group',\n",
       "       'neighbourhood', 'latitude', 'longitude', 'room_type', 'price',\n",
       "       'minimum_nights', 'number_of_reviews', 'last_review',\n",
       "       'reviews_per_month', 'calculated_host_listings_count',\n",
       "       'availability_365', 'number_of_reviews_ltm', 'license'],\n",
       "      dtype='object')"
      ]
     },
     "execution_count": 7,
     "metadata": {},
     "output_type": "execute_result"
    }
   ],
   "source": [
    "# Mostrar columna de datos\n",
    "df.columns "
   ]
  },
  {
   "cell_type": "code",
   "execution_count": 8,
   "metadata": {},
   "outputs": [
    {
     "name": "stdout",
     "output_type": "stream",
     "text": [
      "Cantidad de filas y columnas del dataset: (9621, 18)\n"
     ]
    }
   ],
   "source": [
    "# Mostrar la cantidad de filas y columnas del dataset\n",
    "print(\"Cantidad de filas y columnas del dataset:\", df.shape)"
   ]
  },
  {
   "cell_type": "code",
   "execution_count": 9,
   "metadata": {},
   "outputs": [
    {
     "data": {
      "text/html": [
       "<div>\n",
       "<style scoped>\n",
       "    .dataframe tbody tr th:only-of-type {\n",
       "        vertical-align: middle;\n",
       "    }\n",
       "\n",
       "    .dataframe tbody tr th {\n",
       "        vertical-align: top;\n",
       "    }\n",
       "\n",
       "    .dataframe thead th {\n",
       "        text-align: right;\n",
       "    }\n",
       "</style>\n",
       "<table border=\"1\" class=\"dataframe\">\n",
       "  <thead>\n",
       "    <tr style=\"text-align: right;\">\n",
       "      <th></th>\n",
       "      <th>id</th>\n",
       "      <th>name</th>\n",
       "      <th>host_id</th>\n",
       "      <th>host_name</th>\n",
       "      <th>neighbourhood_group</th>\n",
       "      <th>neighbourhood</th>\n",
       "      <th>latitude</th>\n",
       "      <th>longitude</th>\n",
       "      <th>room_type</th>\n",
       "      <th>price</th>\n",
       "      <th>minimum_nights</th>\n",
       "      <th>number_of_reviews</th>\n",
       "      <th>last_review</th>\n",
       "      <th>reviews_per_month</th>\n",
       "      <th>calculated_host_listings_count</th>\n",
       "      <th>availability_365</th>\n",
       "      <th>number_of_reviews_ltm</th>\n",
       "      <th>license</th>\n",
       "    </tr>\n",
       "  </thead>\n",
       "  <tbody>\n",
       "    <tr>\n",
       "      <th>0</th>\n",
       "      <td>96033</td>\n",
       "      <td>Bonito piso a 200m de la playa, El Palo (Málaga)</td>\n",
       "      <td>510467</td>\n",
       "      <td>Rafael</td>\n",
       "      <td>NaN</td>\n",
       "      <td>Este</td>\n",
       "      <td>36.720310</td>\n",
       "      <td>-4.356270</td>\n",
       "      <td>Entire home/apt</td>\n",
       "      <td>54.0</td>\n",
       "      <td>3</td>\n",
       "      <td>250</td>\n",
       "      <td>2025-03-01</td>\n",
       "      <td>1.79</td>\n",
       "      <td>1</td>\n",
       "      <td>259</td>\n",
       "      <td>39</td>\n",
       "      <td>VUT/MA/22043</td>\n",
       "    </tr>\n",
       "    <tr>\n",
       "      <th>1</th>\n",
       "      <td>166473</td>\n",
       "      <td>Perfect Location In Malaga</td>\n",
       "      <td>793360</td>\n",
       "      <td>Fred</td>\n",
       "      <td>NaN</td>\n",
       "      <td>Este</td>\n",
       "      <td>36.720310</td>\n",
       "      <td>-4.361080</td>\n",
       "      <td>Private room</td>\n",
       "      <td>22.0</td>\n",
       "      <td>5</td>\n",
       "      <td>101</td>\n",
       "      <td>2025-02-11</td>\n",
       "      <td>0.61</td>\n",
       "      <td>5</td>\n",
       "      <td>301</td>\n",
       "      <td>4</td>\n",
       "      <td>NaN</td>\n",
       "    </tr>\n",
       "    <tr>\n",
       "      <th>2</th>\n",
       "      <td>330760</td>\n",
       "      <td>Malaga Lodge Guesthouse Double room-shared bath.</td>\n",
       "      <td>1687526</td>\n",
       "      <td>Mayte</td>\n",
       "      <td>NaN</td>\n",
       "      <td>Centro</td>\n",
       "      <td>36.729786</td>\n",
       "      <td>-4.413462</td>\n",
       "      <td>Private room</td>\n",
       "      <td>51.0</td>\n",
       "      <td>1</td>\n",
       "      <td>60</td>\n",
       "      <td>2025-02-23</td>\n",
       "      <td>0.38</td>\n",
       "      <td>6</td>\n",
       "      <td>218</td>\n",
       "      <td>5</td>\n",
       "      <td>VFT/MA/12240</td>\n",
       "    </tr>\n",
       "    <tr>\n",
       "      <th>3</th>\n",
       "      <td>340024</td>\n",
       "      <td>NEW APARTMENT IN MALAGA CENTER</td>\n",
       "      <td>1725690</td>\n",
       "      <td>Carlos</td>\n",
       "      <td>NaN</td>\n",
       "      <td>Centro</td>\n",
       "      <td>36.728130</td>\n",
       "      <td>-4.414220</td>\n",
       "      <td>Entire home/apt</td>\n",
       "      <td>65.0</td>\n",
       "      <td>3</td>\n",
       "      <td>301</td>\n",
       "      <td>2025-03-14</td>\n",
       "      <td>2.05</td>\n",
       "      <td>1</td>\n",
       "      <td>215</td>\n",
       "      <td>42</td>\n",
       "      <td>VFT/MA/02334</td>\n",
       "    </tr>\n",
       "    <tr>\n",
       "      <th>4</th>\n",
       "      <td>358541</td>\n",
       "      <td>Casa La Maga - Apartment for happy people</td>\n",
       "      <td>1526932</td>\n",
       "      <td>Cristina</td>\n",
       "      <td>NaN</td>\n",
       "      <td>Centro</td>\n",
       "      <td>36.723740</td>\n",
       "      <td>-4.421300</td>\n",
       "      <td>Entire home/apt</td>\n",
       "      <td>86.0</td>\n",
       "      <td>2</td>\n",
       "      <td>388</td>\n",
       "      <td>2025-03-07</td>\n",
       "      <td>2.47</td>\n",
       "      <td>1</td>\n",
       "      <td>100</td>\n",
       "      <td>22</td>\n",
       "      <td>VFT/MA/02288</td>\n",
       "    </tr>\n",
       "  </tbody>\n",
       "</table>\n",
       "</div>"
      ],
      "text/plain": [
       "       id                                              name  host_id  \\\n",
       "0   96033  Bonito piso a 200m de la playa, El Palo (Málaga)   510467   \n",
       "1  166473                        Perfect Location In Malaga   793360   \n",
       "2  330760  Malaga Lodge Guesthouse Double room-shared bath.  1687526   \n",
       "3  340024                    NEW APARTMENT IN MALAGA CENTER  1725690   \n",
       "4  358541         Casa La Maga - Apartment for happy people  1526932   \n",
       "\n",
       "  host_name  neighbourhood_group neighbourhood   latitude  longitude  \\\n",
       "0    Rafael                  NaN          Este  36.720310  -4.356270   \n",
       "1      Fred                  NaN          Este  36.720310  -4.361080   \n",
       "2     Mayte                  NaN        Centro  36.729786  -4.413462   \n",
       "3    Carlos                  NaN        Centro  36.728130  -4.414220   \n",
       "4  Cristina                  NaN        Centro  36.723740  -4.421300   \n",
       "\n",
       "         room_type  price  minimum_nights  number_of_reviews last_review  \\\n",
       "0  Entire home/apt   54.0               3                250  2025-03-01   \n",
       "1     Private room   22.0               5                101  2025-02-11   \n",
       "2     Private room   51.0               1                 60  2025-02-23   \n",
       "3  Entire home/apt   65.0               3                301  2025-03-14   \n",
       "4  Entire home/apt   86.0               2                388  2025-03-07   \n",
       "\n",
       "   reviews_per_month  calculated_host_listings_count  availability_365  \\\n",
       "0               1.79                               1               259   \n",
       "1               0.61                               5               301   \n",
       "2               0.38                               6               218   \n",
       "3               2.05                               1               215   \n",
       "4               2.47                               1               100   \n",
       "\n",
       "   number_of_reviews_ltm       license  \n",
       "0                     39  VUT/MA/22043  \n",
       "1                      4           NaN  \n",
       "2                      5  VFT/MA/12240  \n",
       "3                     42  VFT/MA/02334  \n",
       "4                     22  VFT/MA/02288  "
      ]
     },
     "execution_count": 9,
     "metadata": {},
     "output_type": "execute_result"
    }
   ],
   "source": [
    "# Mostrar el dataset\n",
    "df.head()"
   ]
  },
  {
   "cell_type": "code",
   "execution_count": 10,
   "metadata": {},
   "outputs": [
    {
     "name": "stdout",
     "output_type": "stream",
     "text": [
      "<class 'pandas.core.frame.DataFrame'>\n",
      "RangeIndex: 9621 entries, 0 to 9620\n",
      "Data columns (total 18 columns):\n",
      " #   Column                          Non-Null Count  Dtype  \n",
      "---  ------                          --------------  -----  \n",
      " 0   id                              9621 non-null   int64  \n",
      " 1   name                            9621 non-null   object \n",
      " 2   host_id                         9621 non-null   int64  \n",
      " 3   host_name                       9621 non-null   object \n",
      " 4   neighbourhood_group             0 non-null      float64\n",
      " 5   neighbourhood                   9621 non-null   object \n",
      " 6   latitude                        9621 non-null   float64\n",
      " 7   longitude                       9621 non-null   float64\n",
      " 8   room_type                       9621 non-null   object \n",
      " 9   price                           8711 non-null   float64\n",
      " 10  minimum_nights                  9621 non-null   int64  \n",
      " 11  number_of_reviews               9621 non-null   int64  \n",
      " 12  last_review                     8454 non-null   object \n",
      " 13  reviews_per_month               8454 non-null   float64\n",
      " 14  calculated_host_listings_count  9621 non-null   int64  \n",
      " 15  availability_365                9621 non-null   int64  \n",
      " 16  number_of_reviews_ltm           9621 non-null   int64  \n",
      " 17  license                         9480 non-null   object \n",
      "dtypes: float64(5), int64(7), object(6)\n",
      "memory usage: 1.3+ MB\n"
     ]
    }
   ],
   "source": [
    "# Mostrar info del dataset\n",
    "df.info()"
   ]
  },
  {
   "cell_type": "code",
   "execution_count": 11,
   "metadata": {},
   "outputs": [
    {
     "name": "stdout",
     "output_type": "stream",
     "text": [
      "<class 'pandas.core.frame.DataFrame'>\n",
      "RangeIndex: 9621 entries, 0 to 9620\n",
      "Data columns (total 18 columns):\n",
      " #   Column                          Non-Null Count  Dtype         \n",
      "---  ------                          --------------  -----         \n",
      " 0   id                              9621 non-null   int64         \n",
      " 1   name                            9621 non-null   object        \n",
      " 2   host_id                         9621 non-null   int64         \n",
      " 3   host_name                       9621 non-null   object        \n",
      " 4   neighbourhood_group             9621 non-null   object        \n",
      " 5   neighbourhood                   9621 non-null   object        \n",
      " 6   latitude                        9621 non-null   float64       \n",
      " 7   longitude                       9621 non-null   float64       \n",
      " 8   room_type                       9621 non-null   object        \n",
      " 9   price                           8711 non-null   float64       \n",
      " 10  minimum_nights                  9621 non-null   int64         \n",
      " 11  number_of_reviews               9621 non-null   int64         \n",
      " 12  last_review                     8454 non-null   datetime64[ns]\n",
      " 13  reviews_per_month               8454 non-null   float64       \n",
      " 14  calculated_host_listings_count  9621 non-null   int64         \n",
      " 15  availability_365                9621 non-null   int64         \n",
      " 16  number_of_reviews_ltm           9621 non-null   int64         \n",
      " 17  license                         9480 non-null   object        \n",
      "dtypes: datetime64[ns](1), float64(4), int64(7), object(6)\n",
      "memory usage: 1.3+ MB\n"
     ]
    }
   ],
   "source": [
    "# Corregir tipos de datos\n",
    "# 'last_review' de object a datetime Dtype\n",
    "df['last_review'] = pd.to_datetime(df['last_review'], format='%Y-%m-%d', errors='coerce')\n",
    "\n",
    "# 'neighbourhood_group' de float a string\n",
    "df['neighbourhood_group'] = df['neighbourhood_group'].astype(str)\n",
    "\n",
    "# Mostrar info del dataset corregido\n",
    "df.info()"
   ]
  },
  {
   "cell_type": "code",
   "execution_count": 12,
   "metadata": {},
   "outputs": [
    {
     "data": {
      "text/html": [
       "<div>\n",
       "<style scoped>\n",
       "    .dataframe tbody tr th:only-of-type {\n",
       "        vertical-align: middle;\n",
       "    }\n",
       "\n",
       "    .dataframe tbody tr th {\n",
       "        vertical-align: top;\n",
       "    }\n",
       "\n",
       "    .dataframe thead th {\n",
       "        text-align: right;\n",
       "    }\n",
       "</style>\n",
       "<table border=\"1\" class=\"dataframe\">\n",
       "  <thead>\n",
       "    <tr style=\"text-align: right;\">\n",
       "      <th></th>\n",
       "      <th>id</th>\n",
       "      <th>host_id</th>\n",
       "      <th>latitude</th>\n",
       "      <th>longitude</th>\n",
       "      <th>price</th>\n",
       "      <th>minimum_nights</th>\n",
       "      <th>number_of_reviews</th>\n",
       "      <th>last_review</th>\n",
       "      <th>reviews_per_month</th>\n",
       "      <th>calculated_host_listings_count</th>\n",
       "      <th>availability_365</th>\n",
       "      <th>number_of_reviews_ltm</th>\n",
       "    </tr>\n",
       "  </thead>\n",
       "  <tbody>\n",
       "    <tr>\n",
       "      <th>count</th>\n",
       "      <td>9.621000e+03</td>\n",
       "      <td>9.621000e+03</td>\n",
       "      <td>9621.000000</td>\n",
       "      <td>9621.000000</td>\n",
       "      <td>8711.000000</td>\n",
       "      <td>9621.000000</td>\n",
       "      <td>9621.000000</td>\n",
       "      <td>8454</td>\n",
       "      <td>8454.000000</td>\n",
       "      <td>9621.000000</td>\n",
       "      <td>9621.000000</td>\n",
       "      <td>9621.000000</td>\n",
       "    </tr>\n",
       "    <tr>\n",
       "      <th>mean</th>\n",
       "      <td>6.352695e+17</td>\n",
       "      <td>2.173691e+08</td>\n",
       "      <td>36.720323</td>\n",
       "      <td>-4.421476</td>\n",
       "      <td>244.892320</td>\n",
       "      <td>3.412743</td>\n",
       "      <td>46.334061</td>\n",
       "      <td>2024-10-16 05:45:56.848828928</td>\n",
       "      <td>1.402359</td>\n",
       "      <td>24.359526</td>\n",
       "      <td>162.154142</td>\n",
       "      <td>12.739840</td>\n",
       "    </tr>\n",
       "    <tr>\n",
       "      <th>min</th>\n",
       "      <td>9.603300e+04</td>\n",
       "      <td>4.555300e+04</td>\n",
       "      <td>36.646012</td>\n",
       "      <td>-4.582370</td>\n",
       "      <td>15.000000</td>\n",
       "      <td>1.000000</td>\n",
       "      <td>0.000000</td>\n",
       "      <td>2013-12-31 00:00:00</td>\n",
       "      <td>0.010000</td>\n",
       "      <td>1.000000</td>\n",
       "      <td>0.000000</td>\n",
       "      <td>0.000000</td>\n",
       "    </tr>\n",
       "    <tr>\n",
       "      <th>25%</th>\n",
       "      <td>4.222275e+07</td>\n",
       "      <td>4.842949e+07</td>\n",
       "      <td>36.718342</td>\n",
       "      <td>-4.429060</td>\n",
       "      <td>70.000000</td>\n",
       "      <td>1.000000</td>\n",
       "      <td>3.000000</td>\n",
       "      <td>2024-09-14 00:00:00</td>\n",
       "      <td>0.350000</td>\n",
       "      <td>2.000000</td>\n",
       "      <td>36.000000</td>\n",
       "      <td>1.000000</td>\n",
       "    </tr>\n",
       "    <tr>\n",
       "      <th>50%</th>\n",
       "      <td>7.731022e+17</td>\n",
       "      <td>1.420223e+08</td>\n",
       "      <td>36.722330</td>\n",
       "      <td>-4.422676</td>\n",
       "      <td>96.000000</td>\n",
       "      <td>2.000000</td>\n",
       "      <td>15.000000</td>\n",
       "      <td>2025-02-11 00:00:00</td>\n",
       "      <td>0.910000</td>\n",
       "      <td>5.000000</td>\n",
       "      <td>164.000000</td>\n",
       "      <td>5.000000</td>\n",
       "    </tr>\n",
       "    <tr>\n",
       "      <th>75%</th>\n",
       "      <td>1.131138e+18</td>\n",
       "      <td>3.821465e+08</td>\n",
       "      <td>36.725450</td>\n",
       "      <td>-4.417670</td>\n",
       "      <td>135.000000</td>\n",
       "      <td>3.000000</td>\n",
       "      <td>53.000000</td>\n",
       "      <td>2025-03-14 00:00:00</td>\n",
       "      <td>2.000000</td>\n",
       "      <td>28.000000</td>\n",
       "      <td>272.000000</td>\n",
       "      <td>18.000000</td>\n",
       "    </tr>\n",
       "    <tr>\n",
       "      <th>max</th>\n",
       "      <td>1.386258e+18</td>\n",
       "      <td>6.860863e+08</td>\n",
       "      <td>36.881336</td>\n",
       "      <td>-4.278520</td>\n",
       "      <td>92150.000000</td>\n",
       "      <td>500.000000</td>\n",
       "      <td>1027.000000</td>\n",
       "      <td>2025-03-31 00:00:00</td>\n",
       "      <td>24.940000</td>\n",
       "      <td>218.000000</td>\n",
       "      <td>365.000000</td>\n",
       "      <td>174.000000</td>\n",
       "    </tr>\n",
       "    <tr>\n",
       "      <th>std</th>\n",
       "      <td>5.262896e+17</td>\n",
       "      <td>1.946497e+08</td>\n",
       "      <td>0.013373</td>\n",
       "      <td>0.024403</td>\n",
       "      <td>1424.502555</td>\n",
       "      <td>12.882824</td>\n",
       "      <td>79.124776</td>\n",
       "      <td>NaN</td>\n",
       "      <td>1.479701</td>\n",
       "      <td>41.498793</td>\n",
       "      <td>123.696936</td>\n",
       "      <td>17.853952</td>\n",
       "    </tr>\n",
       "  </tbody>\n",
       "</table>\n",
       "</div>"
      ],
      "text/plain": [
       "                 id       host_id     latitude    longitude         price  \\\n",
       "count  9.621000e+03  9.621000e+03  9621.000000  9621.000000   8711.000000   \n",
       "mean   6.352695e+17  2.173691e+08    36.720323    -4.421476    244.892320   \n",
       "min    9.603300e+04  4.555300e+04    36.646012    -4.582370     15.000000   \n",
       "25%    4.222275e+07  4.842949e+07    36.718342    -4.429060     70.000000   \n",
       "50%    7.731022e+17  1.420223e+08    36.722330    -4.422676     96.000000   \n",
       "75%    1.131138e+18  3.821465e+08    36.725450    -4.417670    135.000000   \n",
       "max    1.386258e+18  6.860863e+08    36.881336    -4.278520  92150.000000   \n",
       "std    5.262896e+17  1.946497e+08     0.013373     0.024403   1424.502555   \n",
       "\n",
       "       minimum_nights  number_of_reviews                    last_review  \\\n",
       "count     9621.000000        9621.000000                           8454   \n",
       "mean         3.412743          46.334061  2024-10-16 05:45:56.848828928   \n",
       "min          1.000000           0.000000            2013-12-31 00:00:00   \n",
       "25%          1.000000           3.000000            2024-09-14 00:00:00   \n",
       "50%          2.000000          15.000000            2025-02-11 00:00:00   \n",
       "75%          3.000000          53.000000            2025-03-14 00:00:00   \n",
       "max        500.000000        1027.000000            2025-03-31 00:00:00   \n",
       "std         12.882824          79.124776                            NaN   \n",
       "\n",
       "       reviews_per_month  calculated_host_listings_count  availability_365  \\\n",
       "count        8454.000000                     9621.000000       9621.000000   \n",
       "mean            1.402359                       24.359526        162.154142   \n",
       "min             0.010000                        1.000000          0.000000   \n",
       "25%             0.350000                        2.000000         36.000000   \n",
       "50%             0.910000                        5.000000        164.000000   \n",
       "75%             2.000000                       28.000000        272.000000   \n",
       "max            24.940000                      218.000000        365.000000   \n",
       "std             1.479701                       41.498793        123.696936   \n",
       "\n",
       "       number_of_reviews_ltm  \n",
       "count            9621.000000  \n",
       "mean               12.739840  \n",
       "min                 0.000000  \n",
       "25%                 1.000000  \n",
       "50%                 5.000000  \n",
       "75%                18.000000  \n",
       "max               174.000000  \n",
       "std                17.853952  "
      ]
     },
     "execution_count": 12,
     "metadata": {},
     "output_type": "execute_result"
    }
   ],
   "source": [
    "# Mostrar estadisticas descriptivas del dataset\n",
    "df.describe()"
   ]
  },
  {
   "cell_type": "code",
   "execution_count": 13,
   "metadata": {},
   "outputs": [],
   "source": [
    "#Añadimos una columna llamada ciudad\n",
    "df['city'] = 'Malaga'\n",
    " "
   ]
  },
  {
   "cell_type": "code",
   "execution_count": 14,
   "metadata": {},
   "outputs": [
    {
     "data": {
      "text/plain": [
       "np.int64(0)"
      ]
     },
     "execution_count": 14,
     "metadata": {},
     "output_type": "execute_result"
    }
   ],
   "source": [
    "# Comprobación de duplicados\n",
    "df.duplicated().sum()"
   ]
  },
  {
   "cell_type": "code",
   "execution_count": 15,
   "metadata": {},
   "outputs": [
    {
     "data": {
      "text/plain": [
       "id                                   0\n",
       "name                                 0\n",
       "host_id                              0\n",
       "host_name                            0\n",
       "neighbourhood_group                  0\n",
       "neighbourhood                        0\n",
       "latitude                             0\n",
       "longitude                            0\n",
       "room_type                            0\n",
       "price                              910\n",
       "minimum_nights                       0\n",
       "number_of_reviews                    0\n",
       "last_review                       1167\n",
       "reviews_per_month                 1167\n",
       "calculated_host_listings_count       0\n",
       "availability_365                     0\n",
       "number_of_reviews_ltm                0\n",
       "license                            141\n",
       "city                                 0\n",
       "dtype: int64"
      ]
     },
     "execution_count": 15,
     "metadata": {},
     "output_type": "execute_result"
    }
   ],
   "source": [
    "# Comprobación de valores nulos\n",
    "df.isnull().sum()"
   ]
  },
  {
   "cell_type": "code",
   "execution_count": 16,
   "metadata": {},
   "outputs": [
    {
     "data": {
      "text/plain": [
       "id                                 0.000000\n",
       "name                               0.000000\n",
       "host_id                            0.000000\n",
       "host_name                          0.000000\n",
       "neighbourhood_group                0.000000\n",
       "neighbourhood                      0.000000\n",
       "latitude                           0.000000\n",
       "longitude                          0.000000\n",
       "room_type                          0.000000\n",
       "price                              9.458476\n",
       "minimum_nights                     0.000000\n",
       "number_of_reviews                  0.000000\n",
       "last_review                       12.129716\n",
       "reviews_per_month                 12.129716\n",
       "calculated_host_listings_count     0.000000\n",
       "availability_365                   0.000000\n",
       "number_of_reviews_ltm              0.000000\n",
       "license                            1.465544\n",
       "city                               0.000000\n",
       "dtype: float64"
      ]
     },
     "execution_count": 16,
     "metadata": {},
     "output_type": "execute_result"
    }
   ],
   "source": [
    "# Porcentaje de valores nulos\n",
    "df.isnull().mean() * 100"
   ]
  },
  {
   "cell_type": "code",
   "execution_count": 17,
   "metadata": {},
   "outputs": [
    {
     "data": {
      "text/plain": [
       "<Axes: >"
      ]
     },
     "execution_count": 17,
     "metadata": {},
     "output_type": "execute_result"
    },
    {
     "data": {
      "image/png": "[encoded data removed]",
      "text/plain": [
       "<Figure size 640x480 with 1 Axes>"
      ]
     },
     "metadata": {},
     "output_type": "display_data"
    }
   ],
   "source": [
    "# Visualización de los datos nulos\n",
    "sns.heatmap(df.isnull(), cbar=False, cmap='viridis')\n"
   ]
  },
  {
   "cell_type": "code",
   "execution_count": 18,
   "metadata": {},
   "outputs": [
    {
     "name": "stdout",
     "output_type": "stream",
     "text": [
      "Cantidad de 'neighbourhood_group' NaN o 'nan': 9621\n"
     ]
    }
   ],
   "source": [
    "# cantidad de 'neighbourhood_group' que son NaN reales o string 'nan'\n",
    "nan_neighbourhood_groups = df['neighbourhood_group'].isnull().sum() + (df['neighbourhood_group'] == 'nan').sum()\n",
    "# Mostrar la cantidad de 'neighbourhood_group' NaN o 'nan'\n",
    "print(\"Cantidad de 'neighbourhood_group' NaN o 'nan':\", nan_neighbourhood_groups)"
   ]
  },
  {
   "cell_type": "code",
   "execution_count": 19,
   "metadata": {},
   "outputs": [
    {
     "name": "stdout",
     "output_type": "stream",
     "text": [
      "Cantidad de filas con 'number_of_reviews' igual a 0 y 'last_review' nulo:\n"
     ]
    },
    {
     "data": {
      "text/plain": [
       "1167"
      ]
     },
     "execution_count": 19,
     "metadata": {},
     "output_type": "execute_result"
    }
   ],
   "source": [
    "# Verificar cantidad de filas con 'number_of_reviews' igual a 0 y 'last_review' nulo\n",
    "print (\"Cantidad de filas con 'number_of_reviews' igual a 0 y 'last_review' nulo:\")\n",
    "df[(df['number_of_reviews'] == 0) & (df['last_review'].isnull())].shape[0]\n"
   ]
  },
  {
   "cell_type": "code",
   "execution_count": 20,
   "metadata": {},
   "outputs": [
    {
     "name": "stdout",
     "output_type": "stream",
     "text": [
      "Fechas nulas marcadas: 1167\n",
      "Fechas futuras marcadas: 0\n",
      "Fechas inválidas marcadas: 0\n"
     ]
    }
   ],
   "source": [
    "from datetime import datetime\n",
    "\n",
    "# 1. Filas con fechas nulas\n",
    "df['last_review_null'] = df['last_review'].isnull()\n",
    "print(\"Fechas nulas marcadas:\", df['last_review_null'].sum())\n",
    "\n",
    "# 2. Filas con fechas futuras\n",
    "hoy = datetime.now()\n",
    "df['last_review_future'] = df['last_review'] > hoy\n",
    "print (\"Fechas futuras marcadas:\", df['last_review_future'].sum())\n",
    "\n",
    "# 3. Filas con fechas sin sentido por ej '2023-02-30' o '2023-13-01' (ignorando las nulas originales)\n",
    "df['last_review_invalid'] = (\n",
    "    df['last_review'].notnull() & \n",
    "    df['last_review'].apply(lambda x: pd.to_datetime(x, errors='coerce')).isnull()\n",
    ")\n",
    "print(\"Fechas inválidas marcadas:\", df['last_review_invalid'].sum())\n",
    "\n",
    "# 4. Eliminar columnas auxiliares\n",
    "df.drop(columns=['last_review_null', 'last_review_future', 'last_review_invalid'], inplace=True)"
   ]
  },
  {
   "cell_type": "code",
   "execution_count": null,
   "metadata": {},
   "outputs": [
    {
     "name": "stdout",
     "output_type": "stream",
     "text": [
      "Nulos en 'reviews_per_month': 0\n",
      "Nulos en 'last_review': 0\n"
     ]
    },
    {
     "name": "stderr",
     "output_type": "stream",
     "text": [
      "/var/folders/dt/s32t0wdx22q3rkl0pp7y4zdm0000gn/T/ipykernel_94572/1698608116.py:6: FutureWarning: Setting an item of incompatible dtype is deprecated and will raise an error in a future version of pandas. Value '0000-00-00' has dtype incompatible with datetime64[ns], please explicitly cast to a compatible dtype first.\n",
      "  df.loc[(df['number_of_reviews'] == 0) & (df['last_review'].isnull()), 'last_review'] = '0000-00-00'\n"
     ]
    }
   ],
   "source": [
    "# Filtrar filas sin reviews\n",
    "no_last_review = df[df['last_review'].isnull()]\n",
    "\n",
    "# Si 'number_of_reviews' = 0 , rellenamos 'last_review' con 0000-00-00\n",
    "# Esta operación asegura que las filas con 0 reseñas y sin fecha de última reseña tengan una fecha predeterminada.\n",
    "df.loc[(df['number_of_reviews'] == 0) & (df['last_review'].isnull()), 'last_review'] = '0000-00-00'\n",
    "\n",
    "# Rellenar 'reviews_per_month' con 0 si es nulo\n",
    "# Con esta operación, convertimos los valores nulos en 0 para evitar problemas en análisis posteriores.\n",
    "df['reviews_per_month'] = df['reviews_per_month'].fillna(0)\n",
    "\n",
    "# Comprobar nulos en 'reviews_per_month' y 'last_review'\n",
    "print(\"Nulos en 'reviews_per_month':\", df['reviews_per_month'].isnull().sum())\n",
    "print(\"Nulos en 'last_review':\", df['last_review'].isnull().sum())"
   ]
  },
  {
   "cell_type": "code",
   "execution_count": 22,
   "metadata": {},
   "outputs": [
    {
     "name": "stdout",
     "output_type": "stream",
     "text": [
      "                       id  number_of_reviews last_review\n",
      "27                 786648                  0  0000-00-00\n",
      "29                 786656                  0  0000-00-00\n",
      "42                1116972                  0  0000-00-00\n",
      "136               3992497                  0  0000-00-00\n",
      "179               4972419                  0  0000-00-00\n",
      "...                   ...                ...         ...\n",
      "9616  1386113325037443875                  0  0000-00-00\n",
      "9617  1386118761230701266                  0  0000-00-00\n",
      "9618  1386121143494673109                  0  0000-00-00\n",
      "9619  1386121456628410971                  0  0000-00-00\n",
      "9620  1386257800461789946                  0  0000-00-00\n",
      "\n",
      "[1167 rows x 3 columns]\n"
     ]
    }
   ],
   "source": [
    "# Imprimir las filas con 'last_review' = 0000-00-00, solo columnas 'id', 'number_of_reviews', 'last_review'\n",
    "print(df[df['last_review'] == '0000-00-00'][['id', 'number_of_reviews', 'last_review']])"
   ]
  },
  {
   "cell_type": "code",
   "execution_count": 23,
   "metadata": {},
   "outputs": [
    {
     "data": {
      "text/html": [
       "<div>\n",
       "<style scoped>\n",
       "    .dataframe tbody tr th:only-of-type {\n",
       "        vertical-align: middle;\n",
       "    }\n",
       "\n",
       "    .dataframe tbody tr th {\n",
       "        vertical-align: top;\n",
       "    }\n",
       "\n",
       "    .dataframe thead th {\n",
       "        text-align: right;\n",
       "    }\n",
       "</style>\n",
       "<table border=\"1\" class=\"dataframe\">\n",
       "  <thead>\n",
       "    <tr style=\"text-align: right;\">\n",
       "      <th></th>\n",
       "      <th>id</th>\n",
       "      <th>name</th>\n",
       "      <th>host_id</th>\n",
       "      <th>host_name</th>\n",
       "      <th>neighbourhood_group</th>\n",
       "      <th>neighbourhood</th>\n",
       "      <th>latitude</th>\n",
       "      <th>longitude</th>\n",
       "      <th>room_type</th>\n",
       "      <th>price</th>\n",
       "      <th>minimum_nights</th>\n",
       "      <th>number_of_reviews</th>\n",
       "      <th>last_review</th>\n",
       "      <th>reviews_per_month</th>\n",
       "      <th>calculated_host_listings_count</th>\n",
       "      <th>availability_365</th>\n",
       "      <th>number_of_reviews_ltm</th>\n",
       "      <th>license</th>\n",
       "      <th>city</th>\n",
       "    </tr>\n",
       "  </thead>\n",
       "  <tbody>\n",
       "    <tr>\n",
       "      <th>0</th>\n",
       "      <td>96033</td>\n",
       "      <td>Bonito piso a 200m de la playa, El Palo (Málaga)</td>\n",
       "      <td>510467</td>\n",
       "      <td>Rafael</td>\n",
       "      <td>nan</td>\n",
       "      <td>Este</td>\n",
       "      <td>36.72031</td>\n",
       "      <td>-4.35627</td>\n",
       "      <td>Entire home/apt</td>\n",
       "      <td>54.0</td>\n",
       "      <td>3</td>\n",
       "      <td>250</td>\n",
       "      <td>2025-03-01 00:00:00</td>\n",
       "      <td>1.79</td>\n",
       "      <td>1</td>\n",
       "      <td>259</td>\n",
       "      <td>39</td>\n",
       "      <td>VUT/MA/22043</td>\n",
       "      <td>Malaga</td>\n",
       "    </tr>\n",
       "    <tr>\n",
       "      <th>1</th>\n",
       "      <td>166473</td>\n",
       "      <td>Perfect Location In Malaga</td>\n",
       "      <td>793360</td>\n",
       "      <td>Fred</td>\n",
       "      <td>nan</td>\n",
       "      <td>Este</td>\n",
       "      <td>36.72031</td>\n",
       "      <td>-4.36108</td>\n",
       "      <td>Private room</td>\n",
       "      <td>22.0</td>\n",
       "      <td>5</td>\n",
       "      <td>101</td>\n",
       "      <td>2025-02-11 00:00:00</td>\n",
       "      <td>0.61</td>\n",
       "      <td>5</td>\n",
       "      <td>301</td>\n",
       "      <td>4</td>\n",
       "      <td>NaN</td>\n",
       "      <td>Malaga</td>\n",
       "    </tr>\n",
       "  </tbody>\n",
       "</table>\n",
       "</div>"
      ],
      "text/plain": [
       "       id                                              name  host_id  \\\n",
       "0   96033  Bonito piso a 200m de la playa, El Palo (Málaga)   510467   \n",
       "1  166473                        Perfect Location In Malaga   793360   \n",
       "\n",
       "  host_name neighbourhood_group neighbourhood  latitude  longitude  \\\n",
       "0    Rafael                 nan          Este  36.72031   -4.35627   \n",
       "1      Fred                 nan          Este  36.72031   -4.36108   \n",
       "\n",
       "         room_type  price  minimum_nights  number_of_reviews  \\\n",
       "0  Entire home/apt   54.0               3                250   \n",
       "1     Private room   22.0               5                101   \n",
       "\n",
       "           last_review  reviews_per_month  calculated_host_listings_count  \\\n",
       "0  2025-03-01 00:00:00               1.79                               1   \n",
       "1  2025-02-11 00:00:00               0.61                               5   \n",
       "\n",
       "   availability_365  number_of_reviews_ltm       license    city  \n",
       "0               259                     39  VUT/MA/22043  Malaga  \n",
       "1               301                      4           NaN  Malaga  "
      ]
     },
     "execution_count": 23,
     "metadata": {},
     "output_type": "execute_result"
    }
   ],
   "source": [
    "# Mostrar primeras 2 filas del dataset\n",
    "df.head(2)\n"
   ]
  },
  {
   "cell_type": "code",
   "execution_count": 24,
   "metadata": {},
   "outputs": [
    {
     "name": "stdout",
     "output_type": "stream",
     "text": [
      "Datos únicos en 'neighbourhood': ['Este' 'Centro' 'Churriana' 'Bailen-Miraflores' 'Carretera de Cadiz'\n",
      " 'Cruz De Humilladero' 'Puerto de la Torre' 'Teatinos-Universidad'\n",
      " 'Ciudad Jardin' 'Palma-Palmilla' 'Campanillas']\n"
     ]
    }
   ],
   "source": [
    "# datos unicos en columna 'neighbourhood'\n",
    "unique_neighbourhoods = df['neighbourhood'].unique()\n",
    "# Mostrar los datos únicos\n",
    "print(\"Datos únicos en 'neighbourhood':\", unique_neighbourhoods)\n"
   ]
  },
  {
   "cell_type": "code",
   "execution_count": 25,
   "metadata": {},
   "outputs": [
    {
     "name": "stdout",
     "output_type": "stream",
     "text": [
      "Nulos en 'neighbourhood_group': 0\n"
     ]
    },
    {
     "data": {
      "text/html": [
       "<div>\n",
       "<style scoped>\n",
       "    .dataframe tbody tr th:only-of-type {\n",
       "        vertical-align: middle;\n",
       "    }\n",
       "\n",
       "    .dataframe tbody tr th {\n",
       "        vertical-align: top;\n",
       "    }\n",
       "\n",
       "    .dataframe thead th {\n",
       "        text-align: right;\n",
       "    }\n",
       "</style>\n",
       "<table border=\"1\" class=\"dataframe\">\n",
       "  <thead>\n",
       "    <tr style=\"text-align: right;\">\n",
       "      <th></th>\n",
       "      <th>id</th>\n",
       "      <th>name</th>\n",
       "      <th>host_id</th>\n",
       "      <th>host_name</th>\n",
       "      <th>neighbourhood_group</th>\n",
       "      <th>neighbourhood</th>\n",
       "      <th>latitude</th>\n",
       "      <th>longitude</th>\n",
       "      <th>room_type</th>\n",
       "      <th>price</th>\n",
       "      <th>minimum_nights</th>\n",
       "      <th>number_of_reviews</th>\n",
       "      <th>last_review</th>\n",
       "      <th>reviews_per_month</th>\n",
       "      <th>calculated_host_listings_count</th>\n",
       "      <th>availability_365</th>\n",
       "      <th>number_of_reviews_ltm</th>\n",
       "      <th>license</th>\n",
       "      <th>city</th>\n",
       "    </tr>\n",
       "  </thead>\n",
       "  <tbody>\n",
       "    <tr>\n",
       "      <th>0</th>\n",
       "      <td>96033</td>\n",
       "      <td>Bonito piso a 200m de la playa, El Palo (Málaga)</td>\n",
       "      <td>510467</td>\n",
       "      <td>Rafael</td>\n",
       "      <td>Este</td>\n",
       "      <td>Este</td>\n",
       "      <td>36.72031</td>\n",
       "      <td>-4.35627</td>\n",
       "      <td>Entire home/apt</td>\n",
       "      <td>54.0</td>\n",
       "      <td>3</td>\n",
       "      <td>250</td>\n",
       "      <td>2025-03-01 00:00:00</td>\n",
       "      <td>1.79</td>\n",
       "      <td>1</td>\n",
       "      <td>259</td>\n",
       "      <td>39</td>\n",
       "      <td>VUT/MA/22043</td>\n",
       "      <td>Malaga</td>\n",
       "    </tr>\n",
       "    <tr>\n",
       "      <th>1</th>\n",
       "      <td>166473</td>\n",
       "      <td>Perfect Location In Malaga</td>\n",
       "      <td>793360</td>\n",
       "      <td>Fred</td>\n",
       "      <td>Este</td>\n",
       "      <td>Este</td>\n",
       "      <td>36.72031</td>\n",
       "      <td>-4.36108</td>\n",
       "      <td>Private room</td>\n",
       "      <td>22.0</td>\n",
       "      <td>5</td>\n",
       "      <td>101</td>\n",
       "      <td>2025-02-11 00:00:00</td>\n",
       "      <td>0.61</td>\n",
       "      <td>5</td>\n",
       "      <td>301</td>\n",
       "      <td>4</td>\n",
       "      <td>NaN</td>\n",
       "      <td>Malaga</td>\n",
       "    </tr>\n",
       "  </tbody>\n",
       "</table>\n",
       "</div>"
      ],
      "text/plain": [
       "       id                                              name  host_id  \\\n",
       "0   96033  Bonito piso a 200m de la playa, El Palo (Málaga)   510467   \n",
       "1  166473                        Perfect Location In Malaga   793360   \n",
       "\n",
       "  host_name neighbourhood_group neighbourhood  latitude  longitude  \\\n",
       "0    Rafael                Este          Este  36.72031   -4.35627   \n",
       "1      Fred                Este          Este  36.72031   -4.36108   \n",
       "\n",
       "         room_type  price  minimum_nights  number_of_reviews  \\\n",
       "0  Entire home/apt   54.0               3                250   \n",
       "1     Private room   22.0               5                101   \n",
       "\n",
       "           last_review  reviews_per_month  calculated_host_listings_count  \\\n",
       "0  2025-03-01 00:00:00               1.79                               1   \n",
       "1  2025-02-11 00:00:00               0.61                               5   \n",
       "\n",
       "   availability_365  number_of_reviews_ltm       license    city  \n",
       "0               259                     39  VUT/MA/22043  Malaga  \n",
       "1               301                      4           NaN  Malaga  "
      ]
     },
     "execution_count": 25,
     "metadata": {},
     "output_type": "execute_result"
    }
   ],
   "source": [
    "# Rellenar 'neighbourhood_group' con el valor de 'neighbourhood'\n",
    "df['neighbourhood_group'] = df['neighbourhood']\n",
    "\n",
    "# Comprobar si hay valores nulos en 'neighbourhood_group'\n",
    "print(\"Nulos en 'neighbourhood_group':\", df['neighbourhood_group'].isnull().sum())\n",
    "\n",
    "# Imprimir las primeras 2 filas del dataset\n",
    "df.head(2)"
   ]
  },
  {
   "cell_type": "code",
   "execution_count": null,
   "metadata": {},
   "outputs": [
    {
     "name": "stdout",
     "output_type": "stream",
     "text": [
      "Nulos en 'price': 3\n"
     ]
    }
   ],
   "source": [
    "# Corregir valores nulos en 'price'\n",
    "# Calcular la media por neighbourhood y room_type\n",
    "group_means = df.groupby(['neighbourhood', 'room_type'])['price'].transform('mean')\n",
    "# Rellenar nulos con la media correspondiente\n",
    "df['price'] = df['price'].fillna(group_means)\n",
    "# Comprobar si hay valores nulos en 'price'\n",
    "print(\"Nulos en 'price':\", df['price'].isnull().sum())\n"
   ]
  },
  {
   "cell_type": "code",
   "execution_count": null,
   "metadata": {},
   "outputs": [],
   "source": [
    "# Rellenar nulos restantes en 'price' con la media por neighbourhood\n",
    "neigh_means = df.groupby('neighbourhood')['price'].transform('mean')\n",
    "df['price'] = df['price'].fillna(neigh_means)"
   ]
  },
  {
   "cell_type": "code",
   "execution_count": 32,
   "metadata": {},
   "outputs": [],
   "source": [
    "# Rellena nulos en 'license' con 'Unknown'\n",
    "df['license'] = df['license'].fillna('Unknown')"
   ]
  },
  {
   "cell_type": "code",
   "execution_count": 33,
   "metadata": {},
   "outputs": [
    {
     "name": "stdout",
     "output_type": "stream",
     "text": [
      "Conteos de nulos en el dataset:\n",
      "Series([], dtype: int64)\n"
     ]
    }
   ],
   "source": [
    "# nulos en el dataset\n",
    "null_counts = df.isnull().sum()\n",
    "# Mostrar los conteos de nulos\n",
    "print(\"Conteos de nulos en el dataset:\")\n",
    "print(null_counts[null_counts > 0])"
   ]
  },
  {
   "cell_type": "code",
   "execution_count": 34,
   "metadata": {},
   "outputs": [],
   "source": [
    "# Guardar el dataset limpio\n",
    "df.to_csv(r'/Users/patriciajaquez/Documents/Documents - Patricia’s MacBook Pro/GitHub/Analisis-de-inversion-inmobiliario/data/malaga_res_cleaned.csv', index=False)"
   ]
  }
 ],
 "metadata": {
  "kernelspec": {
   "display_name": "venv",
   "language": "python",
   "name": "python3"
  },
  "language_info": {
   "codemirror_mode": {
    "name": "ipython",
    "version": 3
   },
   "file_extension": ".py",
   "mimetype": "text/x-python",
   "name": "python",
   "nbconvert_exporter": "python",
   "pygments_lexer": "ipython3",
   "version": "3.13.2"
  }
 },
 "nbformat": 4,
 "nbformat_minor": 2
}
