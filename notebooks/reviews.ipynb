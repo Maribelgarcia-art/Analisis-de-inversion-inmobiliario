{
 "cells": [
  {
   "cell_type": "code",
   "execution_count": 2,
   "metadata": {},
   "outputs": [],
   "source": [
    "# importar librerias\n",
    "import pandas as pd\n",
    "import seaborn as sns\n",
    "import matplotlib.pyplot as plt\n",
    "import streamlit as st\n",
    "import plotly.express as px"
   ]
  },
  {
   "cell_type": "code",
   "execution_count": 5,
   "metadata": {},
   "outputs": [],
   "source": [
    "# Cargar el dataset 'reviews.csv'\n",
    "df = pd.read_csv(r'/Users/patriciajaquez/Documents/Documents - Patricia’s MacBook Pro/GitHub/Analisis-de-inversion-inmobiliario/data/reviews.csv')"
   ]
  },
  {
   "cell_type": "code",
   "execution_count": 6,
   "metadata": {},
   "outputs": [
    {
     "data": {
      "text/html": [
       "<div>\n",
       "<style scoped>\n",
       "    .dataframe tbody tr th:only-of-type {\n",
       "        vertical-align: middle;\n",
       "    }\n",
       "\n",
       "    .dataframe tbody tr th {\n",
       "        vertical-align: top;\n",
       "    }\n",
       "\n",
       "    .dataframe thead th {\n",
       "        text-align: right;\n",
       "    }\n",
       "</style>\n",
       "<table border=\"1\" class=\"dataframe\">\n",
       "  <thead>\n",
       "    <tr style=\"text-align: right;\">\n",
       "      <th></th>\n",
       "      <th>listing_id</th>\n",
       "      <th>id</th>\n",
       "      <th>date</th>\n",
       "      <th>reviewer_id</th>\n",
       "      <th>reviewer_name</th>\n",
       "      <th>comments</th>\n",
       "    </tr>\n",
       "  </thead>\n",
       "  <tbody>\n",
       "    <tr>\n",
       "      <th>0</th>\n",
       "      <td>2380142</td>\n",
       "      <td>10672100</td>\n",
       "      <td>2014-03-02</td>\n",
       "      <td>12601833</td>\n",
       "      <td>José</td>\n",
       "      <td>Fali y Elisabeth son unos anfitriones increíbl...</td>\n",
       "    </tr>\n",
       "    <tr>\n",
       "      <th>1</th>\n",
       "      <td>2380142</td>\n",
       "      <td>10963017</td>\n",
       "      <td>2014-03-15</td>\n",
       "      <td>9555058</td>\n",
       "      <td>Els</td>\n",
       "      <td>What a pleasure to stay at fali’s and elisabet...</td>\n",
       "    </tr>\n",
       "    <tr>\n",
       "      <th>2</th>\n",
       "      <td>2380142</td>\n",
       "      <td>11254456</td>\n",
       "      <td>2014-03-26</td>\n",
       "      <td>1237482</td>\n",
       "      <td>Elaine</td>\n",
       "      <td>Elizabeth and Falli are excellent hosts. They ...</td>\n",
       "    </tr>\n",
       "    <tr>\n",
       "      <th>3</th>\n",
       "      <td>2380142</td>\n",
       "      <td>11489468</td>\n",
       "      <td>2014-04-05</td>\n",
       "      <td>11635565</td>\n",
       "      <td>Belén</td>\n",
       "      <td>Unos anfitriones estupendos, super atentos y e...</td>\n",
       "    </tr>\n",
       "    <tr>\n",
       "      <th>4</th>\n",
       "      <td>2380142</td>\n",
       "      <td>11522613</td>\n",
       "      <td>2014-04-06</td>\n",
       "      <td>546102</td>\n",
       "      <td>Mary</td>\n",
       "      <td>La casa está muy bien ubicada, a dos pasos de ...</td>\n",
       "    </tr>\n",
       "  </tbody>\n",
       "</table>\n",
       "</div>"
      ],
      "text/plain": [
       "   listing_id        id        date  reviewer_id reviewer_name  \\\n",
       "0     2380142  10672100  2014-03-02     12601833          José   \n",
       "1     2380142  10963017  2014-03-15      9555058           Els   \n",
       "2     2380142  11254456  2014-03-26      1237482        Elaine   \n",
       "3     2380142  11489468  2014-04-05     11635565         Belén   \n",
       "4     2380142  11522613  2014-04-06       546102          Mary   \n",
       "\n",
       "                                            comments  \n",
       "0  Fali y Elisabeth son unos anfitriones increíbl...  \n",
       "1  What a pleasure to stay at fali’s and elisabet...  \n",
       "2  Elizabeth and Falli are excellent hosts. They ...  \n",
       "3  Unos anfitriones estupendos, super atentos y e...  \n",
       "4  La casa está muy bien ubicada, a dos pasos de ...  "
      ]
     },
     "execution_count": 6,
     "metadata": {},
     "output_type": "execute_result"
    }
   ],
   "source": [
    "# Imprimir primeras filas del dataset\n",
    "df.head()"
   ]
  },
  {
   "cell_type": "code",
   "execution_count": 7,
   "metadata": {},
   "outputs": [
    {
     "name": "stdout",
     "output_type": "stream",
     "text": [
      "<class 'pandas.core.frame.DataFrame'>\n",
      "RangeIndex: 445780 entries, 0 to 445779\n",
      "Data columns (total 6 columns):\n",
      " #   Column         Non-Null Count   Dtype \n",
      "---  ------         --------------   ----- \n",
      " 0   listing_id     445780 non-null  int64 \n",
      " 1   id             445780 non-null  int64 \n",
      " 2   date           445780 non-null  object\n",
      " 3   reviewer_id    445780 non-null  int64 \n",
      " 4   reviewer_name  445779 non-null  object\n",
      " 5   comments       445762 non-null  object\n",
      "dtypes: int64(3), object(3)\n",
      "memory usage: 20.4+ MB\n"
     ]
    }
   ],
   "source": [
    "#Imprimir información del dataset\n",
    "df.info()"
   ]
  },
  {
   "cell_type": "code",
   "execution_count": 9,
   "metadata": {},
   "outputs": [
    {
     "name": "stdout",
     "output_type": "stream",
     "text": [
      "Cantidad de nulos en cada columna:\n",
      "listing_id        0\n",
      "id                0\n",
      "date              0\n",
      "reviewer_id       0\n",
      "reviewer_name     1\n",
      "comments         18\n",
      "dtype: int64\n"
     ]
    }
   ],
   "source": [
    "# Imprimir cantidad de nulos\n",
    "print(\"Cantidad de nulos en cada columna:\")\n",
    "print(df.isnull().sum())"
   ]
  },
  {
   "cell_type": "code",
   "execution_count": 10,
   "metadata": {},
   "outputs": [
    {
     "name": "stdout",
     "output_type": "stream",
     "text": [
      "Cantidad de duplicados:\n",
      "0\n"
     ]
    }
   ],
   "source": [
    "# Duplicados\n",
    "print(\"Cantidad de duplicados:\")\n",
    "print(df.duplicated().sum())"
   ]
  }
 ],
 "metadata": {
  "kernelspec": {
   "display_name": "venv",
   "language": "python",
   "name": "python3"
  },
  "language_info": {
   "codemirror_mode": {
    "name": "ipython",
    "version": 3
   },
   "file_extension": ".py",
   "mimetype": "text/x-python",
   "name": "python",
   "nbconvert_exporter": "python",
   "pygments_lexer": "ipython3",
   "version": "3.13.2"
  }
 },
 "nbformat": 4,
 "nbformat_minor": 2
}
