{
 "cells": [
  {
   "cell_type": "code",
   "execution_count": 1,
   "metadata": {},
   "outputs": [],
   "source": [
    "# Importar librerías necesarias\n",
    "import pandas as pd"
   ]
  },
  {
   "cell_type": "code",
   "execution_count": 2,
   "metadata": {},
   "outputs": [
    {
     "name": "stdout",
     "output_type": "stream",
     "text": [
      "DataFrame limpio (estadistica_del_crimen_en_malaga):\n"
     ]
    },
    {
     "data": {
      "text/html": [
       "<div>\n",
       "<style scoped>\n",
       "    .dataframe tbody tr th:only-of-type {\n",
       "        vertical-align: middle;\n",
       "    }\n",
       "\n",
       "    .dataframe tbody tr th {\n",
       "        vertical-align: top;\n",
       "    }\n",
       "\n",
       "    .dataframe thead th {\n",
       "        text-align: right;\n",
       "    }\n",
       "</style>\n",
       "<table border=\"1\" class=\"dataframe\">\n",
       "  <thead>\n",
       "    <tr style=\"text-align: right;\">\n",
       "      <th></th>\n",
       "      <th>year</th>\n",
       "      <th>period</th>\n",
       "      <th>crime_type</th>\n",
       "      <th>reported_cases</th>\n",
       "    </tr>\n",
       "  </thead>\n",
       "  <tbody>\n",
       "    <tr>\n",
       "      <th>0</th>\n",
       "      <td>2023</td>\n",
       "      <td>Trimestre 1</td>\n",
       "      <td>Agresión sexual con penetración</td>\n",
       "      <td>160</td>\n",
       "    </tr>\n",
       "    <tr>\n",
       "      <th>1</th>\n",
       "      <td>2023</td>\n",
       "      <td>Trimestre 1</td>\n",
       "      <td>Homicidios dolosos y asesinatos consumados</td>\n",
       "      <td>10</td>\n",
       "    </tr>\n",
       "    <tr>\n",
       "      <th>2</th>\n",
       "      <td>2023</td>\n",
       "      <td>Trimestre 1</td>\n",
       "      <td>Hurtos</td>\n",
       "      <td>2558</td>\n",
       "    </tr>\n",
       "    <tr>\n",
       "      <th>3</th>\n",
       "      <td>2023</td>\n",
       "      <td>Trimestre 1</td>\n",
       "      <td>Robos con fuerza en domicilios, establecimient...</td>\n",
       "      <td>2560</td>\n",
       "    </tr>\n",
       "    <tr>\n",
       "      <th>4</th>\n",
       "      <td>2023</td>\n",
       "      <td>Trimestre 1</td>\n",
       "      <td>Robos con violencia e intimidación</td>\n",
       "      <td>1720</td>\n",
       "    </tr>\n",
       "  </tbody>\n",
       "</table>\n",
       "</div>"
      ],
      "text/plain": [
       "   year       period                                         crime_type  \\\n",
       "0  2023  Trimestre 1                    Agresión sexual con penetración   \n",
       "1  2023  Trimestre 1         Homicidios dolosos y asesinatos consumados   \n",
       "2  2023  Trimestre 1                                             Hurtos   \n",
       "3  2023  Trimestre 1  Robos con fuerza en domicilios, establecimient...   \n",
       "4  2023  Trimestre 1                 Robos con violencia e intimidación   \n",
       "\n",
       "  reported_cases  \n",
       "0            160  \n",
       "1             10  \n",
       "2           2558  \n",
       "3           2560  \n",
       "4           1720  "
      ]
     },
     "metadata": {},
     "output_type": "display_data"
    },
    {
     "name": "stdout",
     "output_type": "stream",
     "text": [
      "\n",
      "Dtypes de las columnas:\n"
     ]
    },
    {
     "data": {
      "text/plain": [
       "year              object\n",
       "period            object\n",
       "crime_type        object\n",
       "reported_cases    object\n",
       "dtype: object"
      ]
     },
     "metadata": {},
     "output_type": "display_data"
    }
   ],
   "source": [
    "# Cargar el archivo estadistica_del_crimen_en_malaga.csv\n",
    "file_path_crimen = (r'/Users/patriciajaquez/Documents/Documents - Patricia’s MacBook Pro/GitHub/Analisis-de-inversion-inmobiliario/data/malaga_crimen_raw.csv')\n",
    "crimen_df = pd.read_csv(file_path_crimen, sep=';', skip_blank_lines=True)\n",
    "\n",
    "# Renombrar columnas para que sean consistentes con malaga_clean.csv\n",
    "crimen_df.rename(columns={\n",
    "    'Año': 'year',\n",
    "    'Periodo': 'period',\n",
    "    'Parámetro': 'crime_type',\n",
    "    'Denuncias': 'reported_cases'\n",
    "}, inplace=True)\n",
    "\n",
    "# Remover puntos y reemplazar comas con puntos si existen en columnas numéricas\n",
    "crimen_df['reported_cases'] = crimen_df['reported_cases'].astype(str).str.replace('.', '', regex=False)\n",
    "\n",
    "\n",
    "# Convertir valores numéricos a tipo integer, manejando errores\n",
    "crimen_df['reported_cases'] = crimen_df['reported_cases'].str.replace(',', '.', regex=False)\n",
    "\n",
    "# Eliminar filas irrelevantes (filas vacías o metadatos)\n",
    "crimen_df = crimen_df.dropna(subset=['year', 'period', 'crime_type', 'reported_cases'])\n",
    "\n",
    "# Eliminar línea con \"Total\" en la columna 'crime_type'\n",
    "crimen_df = crimen_df[crimen_df['crime_type'] != 'Total']\n",
    "\n",
    "# Mostrar el DataFrame limpio\n",
    "print(\"DataFrame limpio (estadistica_del_crimen_en_malaga):\")\n",
    "display(crimen_df.head())\n",
    "\n",
    "# Dtypes de las columnas\n",
    "print(\"\\nDtypes de las columnas:\")\n",
    "display(crimen_df.dtypes)"
   ]
  },
  {
   "cell_type": "code",
   "execution_count": 3,
   "metadata": {},
   "outputs": [],
   "source": [
    "# Cambiar 'reported_cases' y 'year'a entero\n",
    "crimen_df['reported_cases'] = pd.to_numeric(crimen_df['reported_cases'], errors='coerce').astype('Int64')\n",
    "crimen_df['year'] = pd.to_numeric(crimen_df['year'], errors='coerce').astype('Int64')"
   ]
  },
  {
   "cell_type": "code",
   "execution_count": 4,
   "metadata": {},
   "outputs": [
    {
     "data": {
      "text/plain": [
       "year               Int64\n",
       "period            object\n",
       "crime_type        object\n",
       "reported_cases     Int64\n",
       "dtype: object"
      ]
     },
     "metadata": {},
     "output_type": "display_data"
    }
   ],
   "source": [
    "display(crimen_df.dtypes)"
   ]
  },
  {
   "cell_type": "code",
   "execution_count": 5,
   "metadata": {},
   "outputs": [
    {
     "data": {
      "text/html": [
       "<div>\n",
       "<style scoped>\n",
       "    .dataframe tbody tr th:only-of-type {\n",
       "        vertical-align: middle;\n",
       "    }\n",
       "\n",
       "    .dataframe tbody tr th {\n",
       "        vertical-align: top;\n",
       "    }\n",
       "\n",
       "    .dataframe thead th {\n",
       "        text-align: right;\n",
       "    }\n",
       "</style>\n",
       "<table border=\"1\" class=\"dataframe\">\n",
       "  <thead>\n",
       "    <tr style=\"text-align: right;\">\n",
       "      <th></th>\n",
       "      <th>year</th>\n",
       "      <th>period</th>\n",
       "      <th>crime_type</th>\n",
       "      <th>reported_cases</th>\n",
       "    </tr>\n",
       "  </thead>\n",
       "  <tbody>\n",
       "    <tr>\n",
       "      <th>0</th>\n",
       "      <td>2023</td>\n",
       "      <td>Trimestre 1</td>\n",
       "      <td>Agresión sexual con penetración</td>\n",
       "      <td>160</td>\n",
       "    </tr>\n",
       "    <tr>\n",
       "      <th>1</th>\n",
       "      <td>2023</td>\n",
       "      <td>Trimestre 1</td>\n",
       "      <td>Homicidios dolosos y asesinatos consumados</td>\n",
       "      <td>10</td>\n",
       "    </tr>\n",
       "    <tr>\n",
       "      <th>2</th>\n",
       "      <td>2023</td>\n",
       "      <td>Trimestre 1</td>\n",
       "      <td>Hurtos</td>\n",
       "      <td>2558</td>\n",
       "    </tr>\n",
       "    <tr>\n",
       "      <th>3</th>\n",
       "      <td>2023</td>\n",
       "      <td>Trimestre 1</td>\n",
       "      <td>Robos con fuerza en domicilios, establecimient...</td>\n",
       "      <td>2560</td>\n",
       "    </tr>\n",
       "    <tr>\n",
       "      <th>4</th>\n",
       "      <td>2023</td>\n",
       "      <td>Trimestre 1</td>\n",
       "      <td>Robos con violencia e intimidación</td>\n",
       "      <td>1720</td>\n",
       "    </tr>\n",
       "    <tr>\n",
       "      <th>5</th>\n",
       "      <td>2023</td>\n",
       "      <td>Trimestre 1</td>\n",
       "      <td>Secuestro</td>\n",
       "      <td>20</td>\n",
       "    </tr>\n",
       "    <tr>\n",
       "      <th>6</th>\n",
       "      <td>2023</td>\n",
       "      <td>Trimestre 1</td>\n",
       "      <td>Sustracciones de vehículos</td>\n",
       "      <td>1360</td>\n",
       "    </tr>\n",
       "    <tr>\n",
       "      <th>8</th>\n",
       "      <td>2023</td>\n",
       "      <td>Trimestre 1</td>\n",
       "      <td>Tráfico de drogas</td>\n",
       "      <td>1330</td>\n",
       "    </tr>\n",
       "    <tr>\n",
       "      <th>9</th>\n",
       "      <td>2024</td>\n",
       "      <td>Trimestre 1</td>\n",
       "      <td>Agresión sexual con penetración</td>\n",
       "      <td>90</td>\n",
       "    </tr>\n",
       "    <tr>\n",
       "      <th>10</th>\n",
       "      <td>2024</td>\n",
       "      <td>Trimestre 1</td>\n",
       "      <td>Homicidios dolosos y asesinatos consumados</td>\n",
       "      <td>0</td>\n",
       "    </tr>\n",
       "  </tbody>\n",
       "</table>\n",
       "</div>"
      ],
      "text/plain": [
       "    year       period                                         crime_type  \\\n",
       "0   2023  Trimestre 1                    Agresión sexual con penetración   \n",
       "1   2023  Trimestre 1         Homicidios dolosos y asesinatos consumados   \n",
       "2   2023  Trimestre 1                                             Hurtos   \n",
       "3   2023  Trimestre 1  Robos con fuerza en domicilios, establecimient...   \n",
       "4   2023  Trimestre 1                 Robos con violencia e intimidación   \n",
       "5   2023  Trimestre 1                                          Secuestro   \n",
       "6   2023  Trimestre 1                         Sustracciones de vehículos   \n",
       "8   2023  Trimestre 1                                  Tráfico de drogas   \n",
       "9   2024  Trimestre 1                    Agresión sexual con penetración   \n",
       "10  2024  Trimestre 1         Homicidios dolosos y asesinatos consumados   \n",
       "\n",
       "    reported_cases  \n",
       "0              160  \n",
       "1               10  \n",
       "2             2558  \n",
       "3             2560  \n",
       "4             1720  \n",
       "5               20  \n",
       "6             1360  \n",
       "8             1330  \n",
       "9               90  \n",
       "10               0  "
      ]
     },
     "execution_count": 5,
     "metadata": {},
     "output_type": "execute_result"
    }
   ],
   "source": [
    "crimen_df.head(10)"
   ]
  },
  {
   "cell_type": "code",
   "execution_count": 6,
   "metadata": {},
   "outputs": [
    {
     "name": "stdout",
     "output_type": "stream",
     "text": [
      "Archivo limpio guardado en: /Users/patriciajaquez/Documents/Documents - Patricia’s MacBook Pro/GitHub/Analisis-de-inversion-inmobiliario/data/malaga_crimen_clean.csv\n"
     ]
    }
   ],
   "source": [
    "# Guardar el archivo limpio\n",
    "output_path_crimen = '/Users/patriciajaquez/Documents/Documents - Patricia’s MacBook Pro/GitHub/Analisis-de-inversion-inmobiliario/data/malaga_crimen_clean.csv'\n",
    "crimen_df.to_csv(output_path_crimen, index=False)\n",
    "\n",
    "print(f\"Archivo limpio guardado en: {output_path_crimen}\")"
   ]
  }
 ],
 "metadata": {
  "kernelspec": {
   "display_name": "venv",
   "language": "python",
   "name": "python3"
  },
  "language_info": {
   "codemirror_mode": {
    "name": "ipython",
    "version": 3
   },
   "file_extension": ".py",
   "mimetype": "text/x-python",
   "name": "python",
   "nbconvert_exporter": "python",
   "pygments_lexer": "ipython3",
   "version": "3.13.2"
  }
 },
 "nbformat": 4,
 "nbformat_minor": 2
}
