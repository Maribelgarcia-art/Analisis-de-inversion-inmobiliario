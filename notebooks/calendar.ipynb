{
 "cells": [
  {
   "cell_type": "code",
   "execution_count": 11,
   "metadata": {},
   "outputs": [],
   "source": [
    "# importar librerias\n",
    "import pandas as pd\n",
    "import seaborn as sns\n",
    "import matplotlib.pyplot as plt\n",
    "import streamlit as st\n",
    "import plotly.express as px"
   ]
  },
  {
   "cell_type": "code",
   "execution_count": 12,
   "metadata": {},
   "outputs": [],
   "source": [
    "# cargar el dataset\n",
    "df = pd.read_csv(r'/Users/patriciajaquez/Documents/Documents - Patricia’s MacBook Pro/GitHub/Analisis-de-inversion-inmobiliario/data/calendar.csv')"
   ]
  },
  {
   "cell_type": "code",
   "execution_count": 13,
   "metadata": {},
   "outputs": [
    {
     "data": {
      "text/html": [
       "<div>\n",
       "<style scoped>\n",
       "    .dataframe tbody tr th:only-of-type {\n",
       "        vertical-align: middle;\n",
       "    }\n",
       "\n",
       "    .dataframe tbody tr th {\n",
       "        vertical-align: top;\n",
       "    }\n",
       "\n",
       "    .dataframe thead th {\n",
       "        text-align: right;\n",
       "    }\n",
       "</style>\n",
       "<table border=\"1\" class=\"dataframe\">\n",
       "  <thead>\n",
       "    <tr style=\"text-align: right;\">\n",
       "      <th></th>\n",
       "      <th>listing_id</th>\n",
       "      <th>date</th>\n",
       "      <th>available</th>\n",
       "      <th>price</th>\n",
       "      <th>adjusted_price</th>\n",
       "      <th>minimum_nights</th>\n",
       "      <th>maximum_nights</th>\n",
       "    </tr>\n",
       "  </thead>\n",
       "  <tbody>\n",
       "    <tr>\n",
       "      <th>0</th>\n",
       "      <td>96033</td>\n",
       "      <td>2025-03-29</td>\n",
       "      <td>f</td>\n",
       "      <td>$59.00</td>\n",
       "      <td>NaN</td>\n",
       "      <td>3.0</td>\n",
       "      <td>1125.0</td>\n",
       "    </tr>\n",
       "    <tr>\n",
       "      <th>1</th>\n",
       "      <td>96033</td>\n",
       "      <td>2025-03-30</td>\n",
       "      <td>f</td>\n",
       "      <td>$59.00</td>\n",
       "      <td>NaN</td>\n",
       "      <td>3.0</td>\n",
       "      <td>1125.0</td>\n",
       "    </tr>\n",
       "    <tr>\n",
       "      <th>2</th>\n",
       "      <td>96033</td>\n",
       "      <td>2025-03-31</td>\n",
       "      <td>f</td>\n",
       "      <td>$59.00</td>\n",
       "      <td>NaN</td>\n",
       "      <td>3.0</td>\n",
       "      <td>1125.0</td>\n",
       "    </tr>\n",
       "    <tr>\n",
       "      <th>3</th>\n",
       "      <td>96033</td>\n",
       "      <td>2025-04-01</td>\n",
       "      <td>f</td>\n",
       "      <td>$59.00</td>\n",
       "      <td>NaN</td>\n",
       "      <td>3.0</td>\n",
       "      <td>1125.0</td>\n",
       "    </tr>\n",
       "    <tr>\n",
       "      <th>4</th>\n",
       "      <td>96033</td>\n",
       "      <td>2025-04-02</td>\n",
       "      <td>f</td>\n",
       "      <td>$59.00</td>\n",
       "      <td>NaN</td>\n",
       "      <td>3.0</td>\n",
       "      <td>1125.0</td>\n",
       "    </tr>\n",
       "  </tbody>\n",
       "</table>\n",
       "</div>"
      ],
      "text/plain": [
       "   listing_id        date available   price  adjusted_price  minimum_nights  \\\n",
       "0       96033  2025-03-29         f  $59.00             NaN             3.0   \n",
       "1       96033  2025-03-30         f  $59.00             NaN             3.0   \n",
       "2       96033  2025-03-31         f  $59.00             NaN             3.0   \n",
       "3       96033  2025-04-01         f  $59.00             NaN             3.0   \n",
       "4       96033  2025-04-02         f  $59.00             NaN             3.0   \n",
       "\n",
       "   maximum_nights  \n",
       "0          1125.0  \n",
       "1          1125.0  \n",
       "2          1125.0  \n",
       "3          1125.0  \n",
       "4          1125.0  "
      ]
     },
     "execution_count": 13,
     "metadata": {},
     "output_type": "execute_result"
    }
   ],
   "source": [
    "# Primeras filas del dataset\n",
    "df.head()"
   ]
  },
  {
   "cell_type": "code",
   "execution_count": 14,
   "metadata": {},
   "outputs": [
    {
     "name": "stdout",
     "output_type": "stream",
     "text": [
      "<class 'pandas.core.frame.DataFrame'>\n",
      "RangeIndex: 3511909 entries, 0 to 3511908\n",
      "Data columns (total 7 columns):\n",
      " #   Column          Dtype  \n",
      "---  ------          -----  \n",
      " 0   listing_id      int64  \n",
      " 1   date            object \n",
      " 2   available       object \n",
      " 3   price           object \n",
      " 4   adjusted_price  float64\n",
      " 5   minimum_nights  float64\n",
      " 6   maximum_nights  float64\n",
      "dtypes: float64(3), int64(1), object(3)\n",
      "memory usage: 187.6+ MB\n"
     ]
    }
   ],
   "source": [
    "# informacion del dataset\n",
    "df.info()"
   ]
  },
  {
   "cell_type": "code",
   "execution_count": 15,
   "metadata": {},
   "outputs": [],
   "source": [
    "import numpy as np\n",
    "\n",
    "# No panda warnings\n",
    "pd.set_option('future.no_silent_downcasting', True)\n",
    "\n",
    "# Convertir 'date' a tipo datetime\n",
    "df['date'] = pd.to_datetime(df['date'])\n",
    "\n",
    "# Convertir 'available' a tipo booleano\n",
    "df['available'] = df['available'].astype(bool)\n",
    "\n",
    "# Limpiar y convertir columnas de precio\n",
    "for col in ['price', 'adjusted_price']:\n",
    "    df[col] = (\n",
    "        df[col]\n",
    "        .astype(str)\n",
    "        .str.strip()\n",
    "        .replace({'nan': np.nan, 'NaN': np.nan, '': np.nan})\n",
    "        .replace(r'[\\$,]', '', regex=True)\n",
    "    )\n",
    "    df[col] = pd.to_numeric(df[col], errors='coerce')\n",
    "\n",
    "# Convertir 'minimum_nights' y 'maximum_nights' a enteros (coerciendo errores)\n",
    "df['minimum_nights'] = pd.to_numeric(df['minimum_nights'], errors='coerce')\n",
    "df['maximum_nights'] = pd.to_numeric(df['maximum_nights'], errors='coerce')"
   ]
  },
  {
   "cell_type": "code",
   "execution_count": 18,
   "metadata": {},
   "outputs": [
    {
     "name": "stdout",
     "output_type": "stream",
     "text": [
      "<class 'pandas.core.frame.DataFrame'>\n",
      "RangeIndex: 3511909 entries, 0 to 3511908\n",
      "Data columns (total 7 columns):\n",
      " #   Column          Dtype         \n",
      "---  ------          -----         \n",
      " 0   listing_id      int64         \n",
      " 1   date            datetime64[ns]\n",
      " 2   available       bool          \n",
      " 3   price           float64       \n",
      " 4   adjusted_price  float64       \n",
      " 5   minimum_nights  float64       \n",
      " 6   maximum_nights  float64       \n",
      "dtypes: bool(1), datetime64[ns](1), float64(4), int64(1)\n",
      "memory usage: 164.1 MB\n"
     ]
    }
   ],
   "source": [
    "df.info()"
   ]
  },
  {
   "cell_type": "code",
   "execution_count": null,
   "metadata": {},
   "outputs": [
    {
     "name": "stdout",
     "output_type": "stream",
     "text": [
      "         listing_id                           date         price  \\\n",
      "count  3.511909e+06                        3511909  3.511909e+06   \n",
      "mean   6.352461e+17  2025-09-26 23:44:57.672292096  3.574843e+02   \n",
      "min    9.603300e+04            2025-03-28 00:00:00  1.000000e+01   \n",
      "25%    4.222275e+07            2025-06-28 00:00:00  7.000000e+01   \n",
      "50%    7.731022e+17            2025-09-27 00:00:00  1.000000e+02   \n",
      "75%    1.131138e+18            2025-12-27 00:00:00  1.630000e+02   \n",
      "max    1.386258e+18            2026-03-31 00:00:00  9.700000e+04   \n",
      "std    5.262551e+17                            NaN  2.028808e+03   \n",
      "\n",
      "       adjusted_price  minimum_nights  maximum_nights  \n",
      "count             0.0    3.511133e+06    3.511133e+06  \n",
      "mean              NaN    4.710134e+00    6.589514e+02  \n",
      "min               NaN    1.000000e+00    1.000000e+00  \n",
      "25%               NaN    2.000000e+00    3.640000e+02  \n",
      "50%               NaN    3.000000e+00    7.310000e+02  \n",
      "75%               NaN    4.000000e+00    1.125000e+03  \n",
      "max               NaN    5.000000e+02    1.125000e+03  \n",
      "std               NaN    1.296103e+01    4.495744e+02  \n"
     ]
    }
   ],
   "source": [
    "# estadisticas del dataset\n",
    "df.describe()"
   ]
  },
  {
   "cell_type": "code",
   "execution_count": 17,
   "metadata": {},
   "outputs": [
    {
     "data": {
      "text/plain": [
       "np.int64(0)"
      ]
     },
     "execution_count": 17,
     "metadata": {},
     "output_type": "execute_result"
    }
   ],
   "source": [
    "# Duplicados\n",
    "df.duplicated().sum()"
   ]
  },
  {
   "cell_type": "code",
   "execution_count": 23,
   "metadata": {},
   "outputs": [
    {
     "data": {
      "text/plain": [
       "listing_id              0\n",
       "date                    0\n",
       "available               0\n",
       "price                   0\n",
       "adjusted_price    3511909\n",
       "minimum_nights        776\n",
       "maximum_nights        776\n",
       "dtype: int64"
      ]
     },
     "execution_count": 23,
     "metadata": {},
     "output_type": "execute_result"
    }
   ],
   "source": [
    "# Nulos \n",
    "df.isnull().sum()"
   ]
  },
  {
   "cell_type": "code",
   "execution_count": 24,
   "metadata": {},
   "outputs": [
    {
     "data": {
      "text/plain": [
       "<Axes: xlabel='price'>"
      ]
     },
     "execution_count": 24,
     "metadata": {},
     "output_type": "execute_result"
    },
    {
     "data": {
      "image/png": "[encoded data removed]",
      "text/plain": [
       "<Figure size 640x480 with 1 Axes>"
      ]
     },
     "metadata": {},
     "output_type": "display_data"
    }
   ],
   "source": [
    "# outliers en 'price'\n",
    "sns.boxplot(x=df['price'])"
   ]
  }
 ],
 "metadata": {
  "kernelspec": {
   "display_name": "venv",
   "language": "python",
   "name": "python3"
  },
  "language_info": {
   "codemirror_mode": {
    "name": "ipython",
    "version": 3
   },
   "file_extension": ".py",
   "mimetype": "text/x-python",
   "name": "python",
   "nbconvert_exporter": "python",
   "pygments_lexer": "ipython3",
   "version": "3.13.2"
  }
 },
 "nbformat": 4,
 "nbformat_minor": 2
}
